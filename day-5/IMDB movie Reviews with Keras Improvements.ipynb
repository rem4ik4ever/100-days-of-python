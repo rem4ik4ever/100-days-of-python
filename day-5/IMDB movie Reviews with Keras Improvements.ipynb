{
 "cells": [
  {
   "cell_type": "markdown",
   "metadata": {},
   "source": [
    "Analyzing IMDB dataset moview reviews. Using Keras to determine is moview review was Positive(1) or Negative(0)"
   ]
  },
  {
   "cell_type": "code",
   "execution_count": 1,
   "metadata": {},
   "outputs": [
    {
     "name": "stderr",
     "output_type": "stream",
     "text": [
      "Using TensorFlow backend.\n"
     ]
    },
    {
     "data": {
      "text/plain": [
       "'2.2.4'"
      ]
     },
     "execution_count": 1,
     "metadata": {},
     "output_type": "execute_result"
    }
   ],
   "source": [
    "import keras\n",
    "keras.__version__"
   ]
  },
  {
   "cell_type": "code",
   "execution_count": 2,
   "metadata": {},
   "outputs": [],
   "source": [
    "from keras.datasets import imdb"
   ]
  },
  {
   "cell_type": "markdown",
   "metadata": {},
   "source": [
    "Loading training data and test data"
   ]
  },
  {
   "cell_type": "code",
   "execution_count": 3,
   "metadata": {},
   "outputs": [],
   "source": [
    "(train_data, train_labels), (test_data, test_labels) = imdb.load_data(num_words = 10000)"
   ]
  },
  {
   "cell_type": "markdown",
   "metadata": {},
   "source": [
    "**train_data** \n",
    "Represents an array of numbers which essentially indexes of words."
   ]
  },
  {
   "cell_type": "code",
   "execution_count": 4,
   "metadata": {},
   "outputs": [
    {
     "data": {
      "text/plain": [
       "[1,\n",
       " 14,\n",
       " 22,\n",
       " 16,\n",
       " 43,\n",
       " 530,\n",
       " 973,\n",
       " 1622,\n",
       " 1385,\n",
       " 65,\n",
       " 458,\n",
       " 4468,\n",
       " 66,\n",
       " 3941,\n",
       " 4,\n",
       " 173,\n",
       " 36,\n",
       " 256,\n",
       " 5,\n",
       " 25,\n",
       " 100,\n",
       " 43,\n",
       " 838,\n",
       " 112,\n",
       " 50,\n",
       " 670,\n",
       " 2,\n",
       " 9,\n",
       " 35,\n",
       " 480,\n",
       " 284,\n",
       " 5,\n",
       " 150,\n",
       " 4,\n",
       " 172,\n",
       " 112,\n",
       " 167,\n",
       " 2,\n",
       " 336,\n",
       " 385,\n",
       " 39,\n",
       " 4,\n",
       " 172,\n",
       " 4536,\n",
       " 1111,\n",
       " 17,\n",
       " 546,\n",
       " 38,\n",
       " 13,\n",
       " 447,\n",
       " 4,\n",
       " 192,\n",
       " 50,\n",
       " 16,\n",
       " 6,\n",
       " 147,\n",
       " 2025,\n",
       " 19,\n",
       " 14,\n",
       " 22,\n",
       " 4,\n",
       " 1920,\n",
       " 4613,\n",
       " 469,\n",
       " 4,\n",
       " 22,\n",
       " 71,\n",
       " 87,\n",
       " 12,\n",
       " 16,\n",
       " 43,\n",
       " 530,\n",
       " 38,\n",
       " 76,\n",
       " 15,\n",
       " 13,\n",
       " 1247,\n",
       " 4,\n",
       " 22,\n",
       " 17,\n",
       " 515,\n",
       " 17,\n",
       " 12,\n",
       " 16,\n",
       " 626,\n",
       " 18,\n",
       " 2,\n",
       " 5,\n",
       " 62,\n",
       " 386,\n",
       " 12,\n",
       " 8,\n",
       " 316,\n",
       " 8,\n",
       " 106,\n",
       " 5,\n",
       " 4,\n",
       " 2223,\n",
       " 5244,\n",
       " 16,\n",
       " 480,\n",
       " 66,\n",
       " 3785,\n",
       " 33,\n",
       " 4,\n",
       " 130,\n",
       " 12,\n",
       " 16,\n",
       " 38,\n",
       " 619,\n",
       " 5,\n",
       " 25,\n",
       " 124,\n",
       " 51,\n",
       " 36,\n",
       " 135,\n",
       " 48,\n",
       " 25,\n",
       " 1415,\n",
       " 33,\n",
       " 6,\n",
       " 22,\n",
       " 12,\n",
       " 215,\n",
       " 28,\n",
       " 77,\n",
       " 52,\n",
       " 5,\n",
       " 14,\n",
       " 407,\n",
       " 16,\n",
       " 82,\n",
       " 2,\n",
       " 8,\n",
       " 4,\n",
       " 107,\n",
       " 117,\n",
       " 5952,\n",
       " 15,\n",
       " 256,\n",
       " 4,\n",
       " 2,\n",
       " 7,\n",
       " 3766,\n",
       " 5,\n",
       " 723,\n",
       " 36,\n",
       " 71,\n",
       " 43,\n",
       " 530,\n",
       " 476,\n",
       " 26,\n",
       " 400,\n",
       " 317,\n",
       " 46,\n",
       " 7,\n",
       " 4,\n",
       " 2,\n",
       " 1029,\n",
       " 13,\n",
       " 104,\n",
       " 88,\n",
       " 4,\n",
       " 381,\n",
       " 15,\n",
       " 297,\n",
       " 98,\n",
       " 32,\n",
       " 2071,\n",
       " 56,\n",
       " 26,\n",
       " 141,\n",
       " 6,\n",
       " 194,\n",
       " 7486,\n",
       " 18,\n",
       " 4,\n",
       " 226,\n",
       " 22,\n",
       " 21,\n",
       " 134,\n",
       " 476,\n",
       " 26,\n",
       " 480,\n",
       " 5,\n",
       " 144,\n",
       " 30,\n",
       " 5535,\n",
       " 18,\n",
       " 51,\n",
       " 36,\n",
       " 28,\n",
       " 224,\n",
       " 92,\n",
       " 25,\n",
       " 104,\n",
       " 4,\n",
       " 226,\n",
       " 65,\n",
       " 16,\n",
       " 38,\n",
       " 1334,\n",
       " 88,\n",
       " 12,\n",
       " 16,\n",
       " 283,\n",
       " 5,\n",
       " 16,\n",
       " 4472,\n",
       " 113,\n",
       " 103,\n",
       " 32,\n",
       " 15,\n",
       " 16,\n",
       " 5345,\n",
       " 19,\n",
       " 178,\n",
       " 32]"
      ]
     },
     "execution_count": 4,
     "metadata": {},
     "output_type": "execute_result"
    }
   ],
   "source": [
    "train_data[0]"
   ]
  },
  {
   "cell_type": "code",
   "execution_count": 5,
   "metadata": {},
   "outputs": [],
   "source": [
    "word_indexes = imdb.get_word_index()"
   ]
  },
  {
   "cell_type": "code",
   "execution_count": 6,
   "metadata": {},
   "outputs": [
    {
     "data": {
      "text/plain": [
       "{'fawn': 34701,\n",
       " 'tsukino': 52006,\n",
       " 'nunnery': 52007,\n",
       " 'sonja': 16816,\n",
       " 'vani': 63951,\n",
       " 'woods': 1408,\n",
       " 'spiders': 16115,\n",
       " 'hanging': 2345,\n",
       " 'woody': 2289,\n",
       " 'trawling': 52008,\n",
       " \"hold's\": 52009,\n",
       " 'comically': 11307,\n",
       " 'localized': 40830,\n",
       " 'disobeying': 30568,\n",
       " \"'royale\": 52010,\n",
       " \"harpo's\": 40831,\n",
       " 'canet': 52011,\n",
       " 'aileen': 19313,\n",
       " 'acurately': 52012,\n",
       " \"diplomat's\": 52013,\n",
       " 'rickman': 25242,\n",
       " 'arranged': 6746,\n",
       " 'rumbustious': 52014,\n",
       " 'familiarness': 52015,\n",
       " \"spider'\": 52016,\n",
       " 'hahahah': 68804,\n",
       " \"wood'\": 52017,\n",
       " 'transvestism': 40833,\n",
       " \"hangin'\": 34702,\n",
       " 'bringing': 2338,\n",
       " 'seamier': 40834,\n",
       " 'wooded': 34703,\n",
       " 'bravora': 52018,\n",
       " 'grueling': 16817,\n",
       " 'wooden': 1636,\n",
       " 'wednesday': 16818,\n",
       " \"'prix\": 52019,\n",
       " 'altagracia': 34704,\n",
       " 'circuitry': 52020,\n",
       " 'crotch': 11585,\n",
       " 'busybody': 57766,\n",
       " \"tart'n'tangy\": 52021,\n",
       " 'burgade': 14129,\n",
       " 'thrace': 52023,\n",
       " \"tom's\": 11038,\n",
       " 'snuggles': 52025,\n",
       " 'francesco': 29114,\n",
       " 'complainers': 52027,\n",
       " 'templarios': 52125,\n",
       " '272': 40835,\n",
       " '273': 52028,\n",
       " 'zaniacs': 52130,\n",
       " '275': 34706,\n",
       " 'consenting': 27631,\n",
       " 'snuggled': 40836,\n",
       " 'inanimate': 15492,\n",
       " 'uality': 52030,\n",
       " 'bronte': 11926,\n",
       " 'errors': 4010,\n",
       " 'dialogs': 3230,\n",
       " \"yomada's\": 52031,\n",
       " \"madman's\": 34707,\n",
       " 'dialoge': 30585,\n",
       " 'usenet': 52033,\n",
       " 'videodrome': 40837,\n",
       " \"kid'\": 26338,\n",
       " 'pawed': 52034,\n",
       " \"'girlfriend'\": 30569,\n",
       " \"'pleasure\": 52035,\n",
       " \"'reloaded'\": 52036,\n",
       " \"kazakos'\": 40839,\n",
       " 'rocque': 52037,\n",
       " 'mailings': 52038,\n",
       " 'brainwashed': 11927,\n",
       " 'mcanally': 16819,\n",
       " \"tom''\": 52039,\n",
       " 'kurupt': 25243,\n",
       " 'affiliated': 21905,\n",
       " 'babaganoosh': 52040,\n",
       " \"noe's\": 40840,\n",
       " 'quart': 40841,\n",
       " 'kids': 359,\n",
       " 'uplifting': 5034,\n",
       " 'controversy': 7093,\n",
       " 'kida': 21906,\n",
       " 'kidd': 23379,\n",
       " \"error'\": 52041,\n",
       " 'neurologist': 52042,\n",
       " 'spotty': 18510,\n",
       " 'cobblers': 30570,\n",
       " 'projection': 9878,\n",
       " 'fastforwarding': 40842,\n",
       " 'sters': 52043,\n",
       " \"eggar's\": 52044,\n",
       " 'etherything': 52045,\n",
       " 'gateshead': 40843,\n",
       " 'airball': 34708,\n",
       " 'unsinkable': 25244,\n",
       " 'stern': 7180,\n",
       " \"cervi's\": 52046,\n",
       " 'dnd': 40844,\n",
       " 'dna': 11586,\n",
       " 'insecurity': 20598,\n",
       " \"'reboot'\": 52047,\n",
       " 'trelkovsky': 11037,\n",
       " 'jaekel': 52048,\n",
       " 'sidebars': 52049,\n",
       " \"sforza's\": 52050,\n",
       " 'distortions': 17633,\n",
       " 'mutinies': 52051,\n",
       " 'sermons': 30602,\n",
       " '7ft': 40846,\n",
       " 'boobage': 52052,\n",
       " \"o'bannon's\": 52053,\n",
       " 'populations': 23380,\n",
       " 'chulak': 52054,\n",
       " 'mesmerize': 27633,\n",
       " 'quinnell': 52055,\n",
       " 'yahoo': 10307,\n",
       " 'meteorologist': 52057,\n",
       " 'beswick': 42577,\n",
       " 'boorman': 15493,\n",
       " 'voicework': 40847,\n",
       " \"ster'\": 52058,\n",
       " 'blustering': 22922,\n",
       " 'hj': 52059,\n",
       " 'intake': 27634,\n",
       " 'morally': 5621,\n",
       " 'jumbling': 40849,\n",
       " 'bowersock': 52060,\n",
       " \"'porky's'\": 52061,\n",
       " 'gershon': 16821,\n",
       " 'ludicrosity': 40850,\n",
       " 'coprophilia': 52062,\n",
       " 'expressively': 40851,\n",
       " \"india's\": 19500,\n",
       " \"post's\": 34710,\n",
       " 'wana': 52063,\n",
       " 'wang': 5283,\n",
       " 'wand': 30571,\n",
       " 'wane': 25245,\n",
       " 'edgeways': 52321,\n",
       " 'titanium': 34711,\n",
       " 'pinta': 40852,\n",
       " 'want': 178,\n",
       " 'pinto': 30572,\n",
       " 'whoopdedoodles': 52065,\n",
       " 'tchaikovsky': 21908,\n",
       " 'travel': 2103,\n",
       " \"'victory'\": 52066,\n",
       " 'copious': 11928,\n",
       " 'gouge': 22433,\n",
       " \"chapters'\": 52067,\n",
       " 'barbra': 6702,\n",
       " 'uselessness': 30573,\n",
       " \"wan'\": 52068,\n",
       " 'assimilated': 27635,\n",
       " 'petiot': 16116,\n",
       " 'most\\x85and': 52069,\n",
       " 'dinosaurs': 3930,\n",
       " 'wrong': 352,\n",
       " 'seda': 52070,\n",
       " 'stollen': 52071,\n",
       " 'sentencing': 34712,\n",
       " 'ouroboros': 40853,\n",
       " 'assimilates': 40854,\n",
       " 'colorfully': 40855,\n",
       " 'glenne': 27636,\n",
       " 'dongen': 52072,\n",
       " 'subplots': 4760,\n",
       " 'kiloton': 52073,\n",
       " 'chandon': 23381,\n",
       " \"effect'\": 34713,\n",
       " 'snugly': 27637,\n",
       " 'kuei': 40856,\n",
       " 'welcomed': 9092,\n",
       " 'dishonor': 30071,\n",
       " 'concurrence': 52075,\n",
       " 'stoicism': 23382,\n",
       " \"guys'\": 14896,\n",
       " \"beroemd'\": 52077,\n",
       " 'butcher': 6703,\n",
       " \"melfi's\": 40857,\n",
       " 'aargh': 30623,\n",
       " 'playhouse': 20599,\n",
       " 'wickedly': 11308,\n",
       " 'fit': 1180,\n",
       " 'labratory': 52078,\n",
       " 'lifeline': 40859,\n",
       " 'screaming': 1927,\n",
       " 'fix': 4287,\n",
       " 'cineliterate': 52079,\n",
       " 'fic': 52080,\n",
       " 'fia': 52081,\n",
       " 'fig': 34714,\n",
       " 'fmvs': 52082,\n",
       " 'fie': 52083,\n",
       " 'reentered': 52084,\n",
       " 'fin': 30574,\n",
       " 'doctresses': 52085,\n",
       " 'fil': 52086,\n",
       " 'zucker': 12606,\n",
       " 'ached': 31931,\n",
       " 'counsil': 52088,\n",
       " 'paterfamilias': 52089,\n",
       " 'songwriter': 13885,\n",
       " 'shivam': 34715,\n",
       " 'hurting': 9654,\n",
       " 'effects': 299,\n",
       " 'slauther': 52090,\n",
       " \"'flame'\": 52091,\n",
       " 'sommerset': 52092,\n",
       " 'interwhined': 52093,\n",
       " 'whacking': 27638,\n",
       " 'bartok': 52094,\n",
       " 'barton': 8775,\n",
       " 'frewer': 21909,\n",
       " \"fi'\": 52095,\n",
       " 'ingrid': 6192,\n",
       " 'stribor': 30575,\n",
       " 'approporiately': 52096,\n",
       " 'wobblyhand': 52097,\n",
       " 'tantalisingly': 52098,\n",
       " 'ankylosaurus': 52099,\n",
       " 'parasites': 17634,\n",
       " 'childen': 52100,\n",
       " \"jenkins'\": 52101,\n",
       " 'metafiction': 52102,\n",
       " 'golem': 17635,\n",
       " 'indiscretion': 40860,\n",
       " \"reeves'\": 23383,\n",
       " \"inamorata's\": 57781,\n",
       " 'brittannica': 52104,\n",
       " 'adapt': 7916,\n",
       " \"russo's\": 30576,\n",
       " 'guitarists': 48246,\n",
       " 'abbott': 10553,\n",
       " 'abbots': 40861,\n",
       " 'lanisha': 17649,\n",
       " 'magickal': 40863,\n",
       " 'mattter': 52105,\n",
       " \"'willy\": 52106,\n",
       " 'pumpkins': 34716,\n",
       " 'stuntpeople': 52107,\n",
       " 'estimate': 30577,\n",
       " 'ugghhh': 40864,\n",
       " 'gameplay': 11309,\n",
       " \"wern't\": 52108,\n",
       " \"n'sync\": 40865,\n",
       " 'sickeningly': 16117,\n",
       " 'chiara': 40866,\n",
       " 'disturbed': 4011,\n",
       " 'portmanteau': 40867,\n",
       " 'ineffectively': 52109,\n",
       " \"duchonvey's\": 82143,\n",
       " \"nasty'\": 37519,\n",
       " 'purpose': 1285,\n",
       " 'lazers': 52112,\n",
       " 'lightened': 28105,\n",
       " 'kaliganj': 52113,\n",
       " 'popularism': 52114,\n",
       " \"damme's\": 18511,\n",
       " 'stylistics': 30578,\n",
       " 'mindgaming': 52115,\n",
       " 'spoilerish': 46449,\n",
       " \"'corny'\": 52117,\n",
       " 'boerner': 34718,\n",
       " 'olds': 6792,\n",
       " 'bakelite': 52118,\n",
       " 'renovated': 27639,\n",
       " 'forrester': 27640,\n",
       " \"lumiere's\": 52119,\n",
       " 'gaskets': 52024,\n",
       " 'needed': 884,\n",
       " 'smight': 34719,\n",
       " 'master': 1297,\n",
       " \"edie's\": 25905,\n",
       " 'seeber': 40868,\n",
       " 'hiya': 52120,\n",
       " 'fuzziness': 52121,\n",
       " 'genesis': 14897,\n",
       " 'rewards': 12607,\n",
       " 'enthrall': 30579,\n",
       " \"'about\": 40869,\n",
       " \"recollection's\": 52122,\n",
       " 'mutilated': 11039,\n",
       " 'fatherlands': 52123,\n",
       " \"fischer's\": 52124,\n",
       " 'positively': 5399,\n",
       " '270': 34705,\n",
       " 'ahmed': 34720,\n",
       " 'zatoichi': 9836,\n",
       " 'bannister': 13886,\n",
       " 'anniversaries': 52127,\n",
       " \"helm's\": 30580,\n",
       " \"'work'\": 52128,\n",
       " 'exclaimed': 34721,\n",
       " \"'unfunny'\": 52129,\n",
       " '274': 52029,\n",
       " 'feeling': 544,\n",
       " \"wanda's\": 52131,\n",
       " 'dolan': 33266,\n",
       " '278': 52133,\n",
       " 'peacoat': 52134,\n",
       " 'brawny': 40870,\n",
       " 'mishra': 40871,\n",
       " 'worlders': 40872,\n",
       " 'protags': 52135,\n",
       " 'skullcap': 52136,\n",
       " 'dastagir': 57596,\n",
       " 'affairs': 5622,\n",
       " 'wholesome': 7799,\n",
       " 'hymen': 52137,\n",
       " 'paramedics': 25246,\n",
       " 'unpersons': 52138,\n",
       " 'heavyarms': 52139,\n",
       " 'affaire': 52140,\n",
       " 'coulisses': 52141,\n",
       " 'hymer': 40873,\n",
       " 'kremlin': 52142,\n",
       " 'shipments': 30581,\n",
       " 'pixilated': 52143,\n",
       " \"'00s\": 30582,\n",
       " 'diminishing': 18512,\n",
       " 'cinematic': 1357,\n",
       " 'resonates': 14898,\n",
       " 'simplify': 40874,\n",
       " \"nature'\": 40875,\n",
       " 'temptresses': 40876,\n",
       " 'reverence': 16822,\n",
       " 'resonated': 19502,\n",
       " 'dailey': 34722,\n",
       " '2\\x85': 52144,\n",
       " 'treize': 27641,\n",
       " 'majo': 52145,\n",
       " 'kiya': 21910,\n",
       " 'woolnough': 52146,\n",
       " 'thanatos': 39797,\n",
       " 'sandoval': 35731,\n",
       " 'dorama': 40879,\n",
       " \"o'shaughnessy\": 52147,\n",
       " 'tech': 4988,\n",
       " 'fugitives': 32018,\n",
       " 'teck': 30583,\n",
       " \"'e'\": 76125,\n",
       " 'doesn’t': 40881,\n",
       " 'purged': 52149,\n",
       " 'saying': 657,\n",
       " \"martians'\": 41095,\n",
       " 'norliss': 23418,\n",
       " 'dickey': 27642,\n",
       " 'dicker': 52152,\n",
       " \"'sependipity\": 52153,\n",
       " 'padded': 8422,\n",
       " 'ordell': 57792,\n",
       " \"sturges'\": 40882,\n",
       " 'independentcritics': 52154,\n",
       " 'tempted': 5745,\n",
       " \"atkinson's\": 34724,\n",
       " 'hounded': 25247,\n",
       " 'apace': 52155,\n",
       " 'clicked': 15494,\n",
       " \"'humor'\": 30584,\n",
       " \"martino's\": 17177,\n",
       " \"'supporting\": 52156,\n",
       " 'warmongering': 52032,\n",
       " \"zemeckis's\": 34725,\n",
       " 'lube': 21911,\n",
       " 'shocky': 52157,\n",
       " 'plate': 7476,\n",
       " 'plata': 40883,\n",
       " 'sturgess': 40884,\n",
       " \"nerds'\": 40885,\n",
       " 'plato': 20600,\n",
       " 'plath': 34726,\n",
       " 'platt': 40886,\n",
       " 'mcnab': 52159,\n",
       " 'clumsiness': 27643,\n",
       " 'altogether': 3899,\n",
       " 'massacring': 42584,\n",
       " 'bicenntinial': 52160,\n",
       " 'skaal': 40887,\n",
       " 'droning': 14360,\n",
       " 'lds': 8776,\n",
       " 'jaguar': 21912,\n",
       " \"cale's\": 34727,\n",
       " 'nicely': 1777,\n",
       " 'mummy': 4588,\n",
       " \"lot's\": 18513,\n",
       " 'patch': 10086,\n",
       " 'kerkhof': 50202,\n",
       " \"leader's\": 52161,\n",
       " \"'movie\": 27644,\n",
       " 'uncomfirmed': 52162,\n",
       " 'heirloom': 40888,\n",
       " 'wrangle': 47360,\n",
       " 'emotion\\x85': 52163,\n",
       " \"'stargate'\": 52164,\n",
       " 'pinoy': 40889,\n",
       " 'conchatta': 40890,\n",
       " 'broeke': 41128,\n",
       " 'advisedly': 40891,\n",
       " \"barker's\": 17636,\n",
       " 'descours': 52166,\n",
       " 'lots': 772,\n",
       " 'lotr': 9259,\n",
       " 'irs': 9879,\n",
       " 'lott': 52167,\n",
       " 'xvi': 40892,\n",
       " 'irk': 34728,\n",
       " 'irl': 52168,\n",
       " 'ira': 6887,\n",
       " 'belzer': 21913,\n",
       " 'irc': 52169,\n",
       " 'ire': 27645,\n",
       " 'requisites': 40893,\n",
       " 'discipline': 7693,\n",
       " 'lyoko': 52961,\n",
       " 'extend': 11310,\n",
       " 'nature': 873,\n",
       " \"'dickie'\": 52170,\n",
       " 'optimist': 40894,\n",
       " 'lapping': 30586,\n",
       " 'superficial': 3900,\n",
       " 'vestment': 52171,\n",
       " 'extent': 2823,\n",
       " 'tendons': 52172,\n",
       " \"heller's\": 52173,\n",
       " 'quagmires': 52174,\n",
       " 'miyako': 52175,\n",
       " 'moocow': 20601,\n",
       " \"coles'\": 52176,\n",
       " 'lookit': 40895,\n",
       " 'ravenously': 52177,\n",
       " 'levitating': 40896,\n",
       " 'perfunctorily': 52178,\n",
       " 'lookin': 30587,\n",
       " \"lot'\": 40898,\n",
       " 'lookie': 52179,\n",
       " 'fearlessly': 34870,\n",
       " 'libyan': 52181,\n",
       " 'fondles': 40899,\n",
       " 'gopher': 35714,\n",
       " 'wearying': 40901,\n",
       " \"nz's\": 52182,\n",
       " 'minuses': 27646,\n",
       " 'puposelessly': 52183,\n",
       " 'shandling': 52184,\n",
       " 'decapitates': 31268,\n",
       " 'humming': 11929,\n",
       " \"'nother\": 40902,\n",
       " 'smackdown': 21914,\n",
       " 'underdone': 30588,\n",
       " 'frf': 40903,\n",
       " 'triviality': 52185,\n",
       " 'fro': 25248,\n",
       " 'bothers': 8777,\n",
       " \"'kensington\": 52186,\n",
       " 'much': 73,\n",
       " 'muco': 34730,\n",
       " 'wiseguy': 22615,\n",
       " \"richie's\": 27648,\n",
       " 'tonino': 40904,\n",
       " 'unleavened': 52187,\n",
       " 'fry': 11587,\n",
       " \"'tv'\": 40905,\n",
       " 'toning': 40906,\n",
       " 'obese': 14361,\n",
       " 'sensationalized': 30589,\n",
       " 'spiv': 40907,\n",
       " 'spit': 6259,\n",
       " 'arkin': 7364,\n",
       " 'charleton': 21915,\n",
       " 'jeon': 16823,\n",
       " 'boardroom': 21916,\n",
       " 'doubts': 4989,\n",
       " 'spin': 3084,\n",
       " 'hepo': 53083,\n",
       " 'wildcat': 27649,\n",
       " 'venoms': 10584,\n",
       " 'misconstrues': 52191,\n",
       " 'mesmerising': 18514,\n",
       " 'misconstrued': 40908,\n",
       " 'rescinds': 52192,\n",
       " 'prostrate': 52193,\n",
       " 'majid': 40909,\n",
       " 'climbed': 16479,\n",
       " 'canoeing': 34731,\n",
       " 'majin': 52195,\n",
       " 'animie': 57804,\n",
       " 'sylke': 40910,\n",
       " 'conditioned': 14899,\n",
       " 'waddell': 40911,\n",
       " '3\\x85': 52196,\n",
       " 'hyperdrive': 41188,\n",
       " 'conditioner': 34732,\n",
       " 'bricklayer': 53153,\n",
       " 'hong': 2576,\n",
       " 'memoriam': 52198,\n",
       " 'inventively': 30592,\n",
       " \"levant's\": 25249,\n",
       " 'portobello': 20638,\n",
       " 'remand': 52200,\n",
       " 'mummified': 19504,\n",
       " 'honk': 27650,\n",
       " 'spews': 19505,\n",
       " 'visitations': 40912,\n",
       " 'mummifies': 52201,\n",
       " 'cavanaugh': 25250,\n",
       " 'zeon': 23385,\n",
       " \"jungle's\": 40913,\n",
       " 'viertel': 34733,\n",
       " 'frenchmen': 27651,\n",
       " 'torpedoes': 52202,\n",
       " 'schlessinger': 52203,\n",
       " 'torpedoed': 34734,\n",
       " 'blister': 69876,\n",
       " 'cinefest': 52204,\n",
       " 'furlough': 34735,\n",
       " 'mainsequence': 52205,\n",
       " 'mentors': 40914,\n",
       " 'academic': 9094,\n",
       " 'stillness': 20602,\n",
       " 'academia': 40915,\n",
       " 'lonelier': 52206,\n",
       " 'nibby': 52207,\n",
       " \"losers'\": 52208,\n",
       " 'cineastes': 40916,\n",
       " 'corporate': 4449,\n",
       " 'massaging': 40917,\n",
       " 'bellow': 30593,\n",
       " 'absurdities': 19506,\n",
       " 'expetations': 53241,\n",
       " 'nyfiken': 40918,\n",
       " 'mehras': 75638,\n",
       " 'lasse': 52209,\n",
       " 'visability': 52210,\n",
       " 'militarily': 33946,\n",
       " \"elder'\": 52211,\n",
       " 'gainsbourg': 19023,\n",
       " 'hah': 20603,\n",
       " 'hai': 13420,\n",
       " 'haj': 34736,\n",
       " 'hak': 25251,\n",
       " 'hal': 4311,\n",
       " 'ham': 4892,\n",
       " 'duffer': 53259,\n",
       " 'haa': 52213,\n",
       " 'had': 66,\n",
       " 'advancement': 11930,\n",
       " 'hag': 16825,\n",
       " \"hand'\": 25252,\n",
       " 'hay': 13421,\n",
       " 'mcnamara': 20604,\n",
       " \"mozart's\": 52214,\n",
       " 'duffel': 30731,\n",
       " 'haq': 30594,\n",
       " 'har': 13887,\n",
       " 'has': 44,\n",
       " 'hat': 2401,\n",
       " 'hav': 40919,\n",
       " 'haw': 30595,\n",
       " 'figtings': 52215,\n",
       " 'elders': 15495,\n",
       " 'underpanted': 52216,\n",
       " 'pninson': 52217,\n",
       " 'unequivocally': 27652,\n",
       " \"barbara's\": 23673,\n",
       " \"bello'\": 52219,\n",
       " 'indicative': 12997,\n",
       " 'yawnfest': 40920,\n",
       " 'hexploitation': 52220,\n",
       " \"loder's\": 52221,\n",
       " 'sleuthing': 27653,\n",
       " \"justin's\": 32622,\n",
       " \"'ball\": 52222,\n",
       " \"'summer\": 52223,\n",
       " \"'demons'\": 34935,\n",
       " \"mormon's\": 52225,\n",
       " \"laughton's\": 34737,\n",
       " 'debell': 52226,\n",
       " 'shipyard': 39724,\n",
       " 'unabashedly': 30597,\n",
       " 'disks': 40401,\n",
       " 'crowd': 2290,\n",
       " 'crowe': 10087,\n",
       " \"vancouver's\": 56434,\n",
       " 'mosques': 34738,\n",
       " 'crown': 6627,\n",
       " 'culpas': 52227,\n",
       " 'crows': 27654,\n",
       " 'surrell': 53344,\n",
       " 'flowless': 52229,\n",
       " 'sheirk': 52230,\n",
       " \"'three\": 40923,\n",
       " \"peterson'\": 52231,\n",
       " 'ooverall': 52232,\n",
       " 'perchance': 40924,\n",
       " 'bottom': 1321,\n",
       " 'chabert': 53363,\n",
       " 'sneha': 52233,\n",
       " 'inhuman': 13888,\n",
       " 'ichii': 52234,\n",
       " 'ursla': 52235,\n",
       " 'completly': 30598,\n",
       " 'moviedom': 40925,\n",
       " 'raddick': 52236,\n",
       " 'brundage': 51995,\n",
       " 'brigades': 40926,\n",
       " 'starring': 1181,\n",
       " \"'goal'\": 52237,\n",
       " 'caskets': 52238,\n",
       " 'willcock': 52239,\n",
       " \"threesome's\": 52240,\n",
       " \"mosque'\": 52241,\n",
       " \"cover's\": 52242,\n",
       " 'spaceships': 17637,\n",
       " 'anomalous': 40927,\n",
       " 'ptsd': 27655,\n",
       " 'shirdan': 52243,\n",
       " 'obscenity': 21962,\n",
       " 'lemmings': 30599,\n",
       " 'duccio': 30600,\n",
       " \"levene's\": 52244,\n",
       " \"'gorby'\": 52245,\n",
       " \"teenager's\": 25255,\n",
       " 'marshall': 5340,\n",
       " 'honeymoon': 9095,\n",
       " 'shoots': 3231,\n",
       " 'despised': 12258,\n",
       " 'okabasho': 52246,\n",
       " 'fabric': 8289,\n",
       " 'cannavale': 18515,\n",
       " 'raped': 3537,\n",
       " \"tutt's\": 52247,\n",
       " 'grasping': 17638,\n",
       " 'despises': 18516,\n",
       " \"thief's\": 40928,\n",
       " 'rapes': 8926,\n",
       " 'raper': 52248,\n",
       " \"eyre'\": 27656,\n",
       " 'walchek': 52249,\n",
       " \"elmo's\": 23386,\n",
       " 'perfumes': 40929,\n",
       " 'spurting': 21918,\n",
       " \"exposition'\\x85\": 52250,\n",
       " 'denoting': 52251,\n",
       " 'thesaurus': 34740,\n",
       " \"shoot'\": 40930,\n",
       " 'bonejack': 49759,\n",
       " 'simpsonian': 52253,\n",
       " 'hebetude': 30601,\n",
       " \"hallow's\": 34741,\n",
       " 'desperation\\x85': 52254,\n",
       " 'incinerator': 34742,\n",
       " 'congratulations': 10308,\n",
       " 'humbled': 52255,\n",
       " \"else's\": 5924,\n",
       " 'trelkovski': 40845,\n",
       " \"rape'\": 52256,\n",
       " \"'chapters'\": 59386,\n",
       " '1600s': 52257,\n",
       " 'martian': 7253,\n",
       " 'nicest': 25256,\n",
       " 'eyred': 52259,\n",
       " 'passenger': 9457,\n",
       " 'disgrace': 6041,\n",
       " 'moderne': 52260,\n",
       " 'barrymore': 5120,\n",
       " 'yankovich': 52261,\n",
       " 'moderns': 40931,\n",
       " 'studliest': 52262,\n",
       " 'bedsheet': 52263,\n",
       " 'decapitation': 14900,\n",
       " 'slurring': 52264,\n",
       " \"'nunsploitation'\": 52265,\n",
       " \"'character'\": 34743,\n",
       " 'cambodia': 9880,\n",
       " 'rebelious': 52266,\n",
       " 'pasadena': 27657,\n",
       " 'crowne': 40932,\n",
       " \"'bedchamber\": 52267,\n",
       " 'conjectural': 52268,\n",
       " 'appologize': 52269,\n",
       " 'halfassing': 52270,\n",
       " 'paycheque': 57816,\n",
       " 'palms': 20606,\n",
       " \"'islands\": 52271,\n",
       " 'hawked': 40933,\n",
       " 'palme': 21919,\n",
       " 'conservatively': 40934,\n",
       " 'larp': 64007,\n",
       " 'palma': 5558,\n",
       " 'smelling': 21920,\n",
       " 'aragorn': 12998,\n",
       " 'hawker': 52272,\n",
       " 'hawkes': 52273,\n",
       " 'explosions': 3975,\n",
       " 'loren': 8059,\n",
       " \"pyle's\": 52274,\n",
       " 'shootout': 6704,\n",
       " \"mike's\": 18517,\n",
       " \"driscoll's\": 52275,\n",
       " 'cogsworth': 40935,\n",
       " \"britian's\": 52276,\n",
       " 'childs': 34744,\n",
       " \"portrait's\": 52277,\n",
       " 'chain': 3626,\n",
       " 'whoever': 2497,\n",
       " 'puttered': 52278,\n",
       " 'childe': 52279,\n",
       " 'maywether': 52280,\n",
       " 'chair': 3036,\n",
       " \"rance's\": 52281,\n",
       " 'machu': 34745,\n",
       " 'ballet': 4517,\n",
       " 'grapples': 34746,\n",
       " 'summerize': 76152,\n",
       " 'freelance': 30603,\n",
       " \"andrea's\": 52283,\n",
       " '\\x91very': 52284,\n",
       " 'coolidge': 45879,\n",
       " 'mache': 18518,\n",
       " 'balled': 52285,\n",
       " 'grappled': 40937,\n",
       " 'macha': 18519,\n",
       " 'underlining': 21921,\n",
       " 'macho': 5623,\n",
       " 'oversight': 19507,\n",
       " 'machi': 25257,\n",
       " 'verbally': 11311,\n",
       " 'tenacious': 21922,\n",
       " 'windshields': 40938,\n",
       " 'paychecks': 18557,\n",
       " 'jerk': 3396,\n",
       " \"good'\": 11931,\n",
       " 'prancer': 34748,\n",
       " 'prances': 21923,\n",
       " 'olympus': 52286,\n",
       " 'lark': 21924,\n",
       " 'embark': 10785,\n",
       " 'gloomy': 7365,\n",
       " 'jehaan': 52287,\n",
       " 'turaqui': 52288,\n",
       " \"child'\": 20607,\n",
       " 'locked': 2894,\n",
       " 'pranced': 52289,\n",
       " 'exact': 2588,\n",
       " 'unattuned': 52290,\n",
       " 'minute': 783,\n",
       " 'skewed': 16118,\n",
       " 'hodgins': 40940,\n",
       " 'skewer': 34749,\n",
       " 'think\\x85': 52291,\n",
       " 'rosenstein': 38765,\n",
       " 'helmit': 52292,\n",
       " 'wrestlemanias': 34750,\n",
       " 'hindered': 16826,\n",
       " \"martha's\": 30604,\n",
       " 'cheree': 52293,\n",
       " \"pluckin'\": 52294,\n",
       " 'ogles': 40941,\n",
       " 'heavyweight': 11932,\n",
       " 'aada': 82190,\n",
       " 'chopping': 11312,\n",
       " 'strongboy': 61534,\n",
       " 'hegemonic': 41342,\n",
       " 'adorns': 40942,\n",
       " 'xxth': 41346,\n",
       " 'nobuhiro': 34751,\n",
       " 'capitães': 52298,\n",
       " 'kavogianni': 52299,\n",
       " 'antwerp': 13422,\n",
       " 'celebrated': 6538,\n",
       " 'roarke': 52300,\n",
       " 'baggins': 40943,\n",
       " 'cheeseburgers': 31270,\n",
       " 'matras': 52301,\n",
       " \"nineties'\": 52302,\n",
       " \"'craig'\": 52303,\n",
       " 'celebrates': 12999,\n",
       " 'unintentionally': 3383,\n",
       " 'drafted': 14362,\n",
       " 'climby': 52304,\n",
       " '303': 52305,\n",
       " 'oldies': 18520,\n",
       " 'climbs': 9096,\n",
       " 'honour': 9655,\n",
       " 'plucking': 34752,\n",
       " '305': 30074,\n",
       " 'address': 5514,\n",
       " 'menjou': 40944,\n",
       " \"'freak'\": 42592,\n",
       " 'dwindling': 19508,\n",
       " 'benson': 9458,\n",
       " 'white’s': 52307,\n",
       " 'shamelessness': 40945,\n",
       " 'impacted': 21925,\n",
       " 'upatz': 52308,\n",
       " 'cusack': 3840,\n",
       " \"flavia's\": 37567,\n",
       " 'effette': 52309,\n",
       " 'influx': 34753,\n",
       " 'boooooooo': 52310,\n",
       " 'dimitrova': 52311,\n",
       " 'houseman': 13423,\n",
       " 'bigas': 25259,\n",
       " 'boylen': 52312,\n",
       " 'phillipenes': 52313,\n",
       " 'fakery': 40946,\n",
       " \"grandpa's\": 27658,\n",
       " 'darnell': 27659,\n",
       " 'undergone': 19509,\n",
       " 'handbags': 52315,\n",
       " 'perished': 21926,\n",
       " 'pooped': 37778,\n",
       " 'vigour': 27660,\n",
       " 'opposed': 3627,\n",
       " 'etude': 52316,\n",
       " \"caine's\": 11799,\n",
       " 'doozers': 52317,\n",
       " 'photojournals': 34754,\n",
       " 'perishes': 52318,\n",
       " 'constrains': 34755,\n",
       " 'migenes': 40948,\n",
       " 'consoled': 30605,\n",
       " 'alastair': 16827,\n",
       " 'wvs': 52319,\n",
       " 'ooooooh': 52320,\n",
       " 'approving': 34756,\n",
       " 'consoles': 40949,\n",
       " 'disparagement': 52064,\n",
       " 'futureistic': 52322,\n",
       " 'rebounding': 52323,\n",
       " \"'date\": 52324,\n",
       " 'gregoire': 52325,\n",
       " 'rutherford': 21927,\n",
       " 'americanised': 34757,\n",
       " 'novikov': 82196,\n",
       " 'following': 1042,\n",
       " 'munroe': 34758,\n",
       " \"morita'\": 52326,\n",
       " 'christenssen': 52327,\n",
       " 'oatmeal': 23106,\n",
       " 'fossey': 25260,\n",
       " 'livered': 40950,\n",
       " 'listens': 13000,\n",
       " \"'marci\": 76164,\n",
       " \"otis's\": 52330,\n",
       " 'thanking': 23387,\n",
       " 'maude': 16019,\n",
       " 'extensions': 34759,\n",
       " 'ameteurish': 52332,\n",
       " \"commender's\": 52333,\n",
       " 'agricultural': 27661,\n",
       " 'convincingly': 4518,\n",
       " 'fueled': 17639,\n",
       " 'mahattan': 54014,\n",
       " \"paris's\": 40952,\n",
       " 'vulkan': 52336,\n",
       " 'stapes': 52337,\n",
       " 'odysessy': 52338,\n",
       " 'harmon': 12259,\n",
       " 'surfing': 4252,\n",
       " 'halloran': 23494,\n",
       " 'unbelieveably': 49580,\n",
       " \"'offed'\": 52339,\n",
       " 'quadrant': 30607,\n",
       " 'inhabiting': 19510,\n",
       " 'nebbish': 34760,\n",
       " 'forebears': 40953,\n",
       " 'skirmish': 34761,\n",
       " 'ocassionally': 52340,\n",
       " \"'resist\": 52341,\n",
       " 'impactful': 21928,\n",
       " 'spicier': 52342,\n",
       " 'touristy': 40954,\n",
       " \"'football'\": 52343,\n",
       " 'webpage': 40955,\n",
       " 'exurbia': 52345,\n",
       " 'jucier': 52346,\n",
       " 'professors': 14901,\n",
       " 'structuring': 34762,\n",
       " 'jig': 30608,\n",
       " 'overlord': 40956,\n",
       " 'disconnect': 25261,\n",
       " 'sniffle': 82201,\n",
       " 'slimeball': 40957,\n",
       " 'jia': 40958,\n",
       " 'milked': 16828,\n",
       " 'banjoes': 40959,\n",
       " 'jim': 1237,\n",
       " 'workforces': 52348,\n",
       " 'jip': 52349,\n",
       " 'rotweiller': 52350,\n",
       " 'mundaneness': 34763,\n",
       " \"'ninja'\": 52351,\n",
       " \"dead'\": 11040,\n",
       " \"cipriani's\": 40960,\n",
       " 'modestly': 20608,\n",
       " \"professor'\": 52352,\n",
       " 'shacked': 40961,\n",
       " 'bashful': 34764,\n",
       " 'sorter': 23388,\n",
       " 'overpowering': 16120,\n",
       " 'workmanlike': 18521,\n",
       " 'henpecked': 27662,\n",
       " 'sorted': 18522,\n",
       " \"jōb's\": 52354,\n",
       " \"'always\": 52355,\n",
       " \"'baptists\": 34765,\n",
       " 'dreamcatchers': 52356,\n",
       " \"'silence'\": 52357,\n",
       " 'hickory': 21929,\n",
       " 'fun\\x97yet': 52358,\n",
       " 'breakumentary': 52359,\n",
       " 'didn': 15496,\n",
       " 'didi': 52360,\n",
       " 'pealing': 52361,\n",
       " 'dispite': 40962,\n",
       " \"italy's\": 25262,\n",
       " 'instability': 21930,\n",
       " 'quarter': 6539,\n",
       " 'quartet': 12608,\n",
       " 'padmé': 52362,\n",
       " \"'bleedmedry\": 52363,\n",
       " 'pahalniuk': 52364,\n",
       " 'honduras': 52365,\n",
       " 'bursting': 10786,\n",
       " \"pablo's\": 41465,\n",
       " 'irremediably': 52367,\n",
       " 'presages': 40963,\n",
       " 'bowlegged': 57832,\n",
       " 'dalip': 65183,\n",
       " 'entering': 6260,\n",
       " 'newsradio': 76172,\n",
       " 'presaged': 54150,\n",
       " \"giallo's\": 27663,\n",
       " 'bouyant': 40964,\n",
       " 'amerterish': 52368,\n",
       " 'rajni': 18523,\n",
       " 'leeves': 30610,\n",
       " 'macauley': 34767,\n",
       " 'seriously': 612,\n",
       " 'sugercoma': 52369,\n",
       " 'grimstead': 52370,\n",
       " \"'fairy'\": 52371,\n",
       " 'zenda': 30611,\n",
       " \"'twins'\": 52372,\n",
       " 'realisation': 17640,\n",
       " 'highsmith': 27664,\n",
       " 'raunchy': 7817,\n",
       " 'incentives': 40965,\n",
       " 'flatson': 52374,\n",
       " 'snooker': 35097,\n",
       " 'crazies': 16829,\n",
       " 'crazier': 14902,\n",
       " 'grandma': 7094,\n",
       " 'napunsaktha': 52375,\n",
       " 'workmanship': 30612,\n",
       " 'reisner': 52376,\n",
       " \"sanford's\": 61306,\n",
       " '\\x91doña': 52377,\n",
       " 'modest': 6108,\n",
       " \"everything's\": 19153,\n",
       " 'hamer': 40966,\n",
       " \"couldn't'\": 52379,\n",
       " 'quibble': 13001,\n",
       " 'socking': 52380,\n",
       " 'tingler': 21931,\n",
       " 'gutman': 52381,\n",
       " 'lachlan': 40967,\n",
       " 'tableaus': 52382,\n",
       " 'headbanger': 52383,\n",
       " 'spoken': 2847,\n",
       " 'cerebrally': 34768,\n",
       " \"'road\": 23490,\n",
       " 'tableaux': 21932,\n",
       " \"proust's\": 40968,\n",
       " 'periodical': 40969,\n",
       " \"shoveller's\": 52385,\n",
       " 'tamara': 25263,\n",
       " 'affords': 17641,\n",
       " 'concert': 3249,\n",
       " \"yara's\": 87955,\n",
       " 'someome': 52386,\n",
       " 'lingering': 8424,\n",
       " \"abraham's\": 41511,\n",
       " 'beesley': 34769,\n",
       " 'cherbourg': 34770,\n",
       " 'kagan': 28624,\n",
       " 'snatch': 9097,\n",
       " \"miyazaki's\": 9260,\n",
       " 'absorbs': 25264,\n",
       " \"koltai's\": 40970,\n",
       " 'tingled': 64027,\n",
       " 'crossroads': 19511,\n",
       " 'rehab': 16121,\n",
       " 'falworth': 52389,\n",
       " 'sequals': 52390,\n",
       " ...}"
      ]
     },
     "execution_count": 6,
     "metadata": {},
     "output_type": "execute_result"
    }
   ],
   "source": [
    "word_indexes"
   ]
  },
  {
   "cell_type": "markdown",
   "metadata": {},
   "source": [
    "This dictionary is not very helpful for us to decode review. Thus it will be nice to reverse it."
   ]
  },
  {
   "cell_type": "code",
   "execution_count": 7,
   "metadata": {},
   "outputs": [],
   "source": [
    "reversed_word_indexes = dict([(val, key) for (key, val) in word_indexes.items()])"
   ]
  },
  {
   "cell_type": "markdown",
   "metadata": {},
   "source": [
    "Quick and easy function to decode review. Note we need to have offset of 3, (1. Padding, 2. Start of sequence, 3. Unknown) otherwise review will not make any sense."
   ]
  },
  {
   "cell_type": "code",
   "execution_count": 8,
   "metadata": {},
   "outputs": [],
   "source": [
    "def decode_review(sequence, reversed_word_indexes):\n",
    "    review = ' '.join([reversed_word_indexes.get(i - 3, '?') for i in sequence])\n",
    "    return review"
   ]
  },
  {
   "cell_type": "code",
   "execution_count": 9,
   "metadata": {},
   "outputs": [],
   "source": [
    "review = decode_review(train_data[0], reversed_word_indexes)"
   ]
  },
  {
   "cell_type": "code",
   "execution_count": 10,
   "metadata": {},
   "outputs": [
    {
     "data": {
      "text/plain": [
       "\"? this film was just brilliant casting location scenery story direction everyone's really suited the part they played and you could just imagine being there robert ? is an amazing actor and now the same being director ? father came from the same scottish island as myself so i loved the fact there was a real connection with this film the witty remarks throughout the film were great it was just brilliant so much that i bought the film as soon as it was released for ? and would recommend it to everyone to watch and the fly fishing was amazing really cried at the end it was so sad and you know what they say if you cry at a film it must have been good and this definitely was also ? to the two little boy's that played the ? of norman and paul they were just brilliant children are often left out of the ? list i think because the stars that play them all grown up are such a big profile for the whole film but these children are amazing and should be praised for what they have done don't you think the whole story was so lovely because it was true and was someone's life after all that was shared with us all\""
      ]
     },
     "execution_count": 10,
     "metadata": {},
     "output_type": "execute_result"
    }
   ],
   "source": [
    "review"
   ]
  },
  {
   "cell_type": "markdown",
   "metadata": {},
   "source": [
    "This is an Example of decoded review. "
   ]
  },
  {
   "cell_type": "markdown",
   "metadata": {},
   "source": [
    "#### Preparing data\n",
    "\n",
    "Now that we know what those numbers represent, we can prepare our data to be passed to keras. We need to convers single dimension array into numpy matrix. Which is called One hot encoding"
   ]
  },
  {
   "cell_type": "code",
   "execution_count": 11,
   "metadata": {},
   "outputs": [],
   "source": [
    "import numpy as np\n",
    "\n",
    "def vectorize_data(sequences, dimensions=10000):\n",
    "    matrix = np.zeros((len(sequences), dimensions))\n",
    "    for i, sequence in enumerate(sequences):\n",
    "            matrix[i, sequence] = 1\n",
    "    return matrix\n",
    "x_train = vectorize_data(train_data)\n",
    "x_test = vectorize_data(test_data)"
   ]
  },
  {
   "cell_type": "code",
   "execution_count": 12,
   "metadata": {},
   "outputs": [
    {
     "data": {
      "text/plain": [
       "array([[0., 1., 1., ..., 0., 0., 0.],\n",
       "       [0., 1., 1., ..., 0., 0., 0.],\n",
       "       [0., 1., 1., ..., 0., 0., 0.],\n",
       "       ...,\n",
       "       [0., 1., 1., ..., 0., 0., 0.],\n",
       "       [0., 1., 1., ..., 0., 0., 0.],\n",
       "       [0., 1., 1., ..., 0., 0., 0.]])"
      ]
     },
     "execution_count": 12,
     "metadata": {},
     "output_type": "execute_result"
    }
   ],
   "source": [
    "x_train"
   ]
  },
  {
   "cell_type": "markdown",
   "metadata": {},
   "source": [
    "For labels we can just convert it into numpy array of float32 numbers"
   ]
  },
  {
   "cell_type": "code",
   "execution_count": 13,
   "metadata": {},
   "outputs": [
    {
     "data": {
      "text/plain": [
       "array([1., 0., 0., ..., 0., 1., 0.], dtype=float32)"
      ]
     },
     "execution_count": 13,
     "metadata": {},
     "output_type": "execute_result"
    }
   ],
   "source": [
    "y_train = np.asarray(train_labels).astype('float32')\n",
    "y_train"
   ]
  },
  {
   "cell_type": "code",
   "execution_count": 14,
   "metadata": {},
   "outputs": [
    {
     "data": {
      "text/plain": [
       "array([0., 1., 1., ..., 0., 0., 0.], dtype=float32)"
      ]
     },
     "execution_count": 14,
     "metadata": {},
     "output_type": "execute_result"
    }
   ],
   "source": [
    "y_test = np.asarray(test_labels).astype('float32')\n",
    "y_test"
   ]
  },
  {
   "cell_type": "markdown",
   "metadata": {},
   "source": [
    "#### Creating our model\n",
    "\n",
    "Now that we have our data prepared, we can start working on our Keras model. \n",
    "We will have 2 Dense layers of 16 NN nodes with activation function 'relu' and last Dense layer will be our output layer of dense 1 with activation function 'sigmoid' "
   ]
  },
  {
   "cell_type": "code",
   "execution_count": 15,
   "metadata": {},
   "outputs": [],
   "source": [
    "from keras import layers, models"
   ]
  },
  {
   "cell_type": "code",
   "execution_count": 16,
   "metadata": {},
   "outputs": [
    {
     "name": "stdout",
     "output_type": "stream",
     "text": [
      "WARNING:tensorflow:From /home/senpai/anaconda3/lib/python3.7/site-packages/tensorflow/python/framework/op_def_library.py:263: colocate_with (from tensorflow.python.framework.ops) is deprecated and will be removed in a future version.\n",
      "Instructions for updating:\n",
      "Colocations handled automatically by placer.\n"
     ]
    }
   ],
   "source": [
    "model = models.Sequential()\n",
    "model.add(layers.Dense(16, activation='relu', input_shape=(10000,)))\n",
    "model.add(layers.Dense(16, activation='relu'))\n",
    "model.add(layers.Dense(1, activation='sigmoid'))"
   ]
  },
  {
   "cell_type": "markdown",
   "metadata": {},
   "source": [
    "Next we need to compile our model and for that we need to provide 3 parameters:\n",
    " 1. optimizer function\n",
    " 2. loss function\n",
    " 3. metrics \n",
    "In our case optimizer 'rmsprop'\n",
    "loss_function will be 'binary_crossentropy' because we are dealing with binary classification where output can only be 0 or 1\n",
    "metrics will be 'accuracy'"
   ]
  },
  {
   "cell_type": "code",
   "execution_count": 17,
   "metadata": {},
   "outputs": [],
   "source": [
    "model.compile(optimizer='rmsprop', loss='binary_crossentropy', metrics=['acc'])"
   ]
  },
  {
   "cell_type": "markdown",
   "metadata": {},
   "source": [
    "Next step is to validate our approach and see if our model works. For that we will run validation process deviving train data into sets of 10000 items"
   ]
  },
  {
   "cell_type": "code",
   "execution_count": 18,
   "metadata": {},
   "outputs": [],
   "source": [
    "x_val = x_train[:10000]\n",
    "x_partial_train = x_train[10000:]\n",
    "\n",
    "y_val = y_train[:10000]\n",
    "y_partial_train = y_train[10000:]"
   ]
  },
  {
   "cell_type": "code",
   "execution_count": 19,
   "metadata": {},
   "outputs": [
    {
     "name": "stdout",
     "output_type": "stream",
     "text": [
      "10000 15000\n"
     ]
    }
   ],
   "source": [
    "print(len(x_val), len(x_partial_train))"
   ]
  },
  {
   "cell_type": "code",
   "execution_count": 20,
   "metadata": {},
   "outputs": [
    {
     "name": "stdout",
     "output_type": "stream",
     "text": [
      "WARNING:tensorflow:From /home/senpai/anaconda3/lib/python3.7/site-packages/tensorflow/python/ops/math_ops.py:3066: to_int32 (from tensorflow.python.ops.math_ops) is deprecated and will be removed in a future version.\n",
      "Instructions for updating:\n",
      "Use tf.cast instead.\n",
      "Train on 15000 samples, validate on 10000 samples\n",
      "Epoch 1/20\n",
      "15000/15000 [==============================] - 4s 257us/step - loss: 0.5084 - acc: 0.7813 - val_loss: 0.3797 - val_acc: 0.8684\n",
      "Epoch 2/20\n",
      "15000/15000 [==============================] - 1s 80us/step - loss: 0.3004 - acc: 0.9047 - val_loss: 0.3004 - val_acc: 0.8897\n",
      "Epoch 3/20\n",
      "15000/15000 [==============================] - 1s 73us/step - loss: 0.2179 - acc: 0.9285 - val_loss: 0.3085 - val_acc: 0.8711\n",
      "Epoch 4/20\n",
      "15000/15000 [==============================] - 1s 74us/step - loss: 0.1750 - acc: 0.9437 - val_loss: 0.2840 - val_acc: 0.8832\n",
      "Epoch 5/20\n",
      "15000/15000 [==============================] - 1s 73us/step - loss: 0.1427 - acc: 0.9543 - val_loss: 0.2841 - val_acc: 0.8872\n",
      "Epoch 6/20\n",
      "15000/15000 [==============================] - 1s 74us/step - loss: 0.1150 - acc: 0.9650 - val_loss: 0.3166 - val_acc: 0.8772\n",
      "Epoch 7/20\n",
      "15000/15000 [==============================] - 1s 74us/step - loss: 0.0980 - acc: 0.9705 - val_loss: 0.3127 - val_acc: 0.8846\n",
      "Epoch 8/20\n",
      "15000/15000 [==============================] - 1s 75us/step - loss: 0.0807 - acc: 0.9763 - val_loss: 0.3859 - val_acc: 0.8649\n",
      "Epoch 9/20\n",
      "15000/15000 [==============================] - 1s 77us/step - loss: 0.0661 - acc: 0.9821 - val_loss: 0.3635 - val_acc: 0.8782\n",
      "Epoch 10/20\n",
      "15000/15000 [==============================] - 1s 74us/step - loss: 0.0561 - acc: 0.9853 - val_loss: 0.3841 - val_acc: 0.8792\n",
      "Epoch 11/20\n",
      "15000/15000 [==============================] - 1s 74us/step - loss: 0.0439 - acc: 0.9893 - val_loss: 0.4153 - val_acc: 0.8779\n",
      "Epoch 12/20\n",
      "15000/15000 [==============================] - 1s 76us/step - loss: 0.0381 - acc: 0.9921 - val_loss: 0.4525 - val_acc: 0.8690\n",
      "Epoch 13/20\n",
      "15000/15000 [==============================] - 1s 74us/step - loss: 0.0300 - acc: 0.9928 - val_loss: 0.4698 - val_acc: 0.8729\n",
      "Epoch 14/20\n",
      "15000/15000 [==============================] - 1s 74us/step - loss: 0.0247 - acc: 0.9945 - val_loss: 0.5022 - val_acc: 0.8726\n",
      "Epoch 15/20\n",
      "15000/15000 [==============================] - 1s 74us/step - loss: 0.0175 - acc: 0.9979 - val_loss: 0.5341 - val_acc: 0.8693\n",
      "Epoch 16/20\n",
      "15000/15000 [==============================] - 1s 73us/step - loss: 0.0149 - acc: 0.9983 - val_loss: 0.5709 - val_acc: 0.8699\n",
      "Epoch 17/20\n",
      "15000/15000 [==============================] - 1s 73us/step - loss: 0.0151 - acc: 0.9971 - val_loss: 0.6024 - val_acc: 0.8697\n",
      "Epoch 18/20\n",
      "15000/15000 [==============================] - 1s 73us/step - loss: 0.0075 - acc: 0.9996 - val_loss: 0.6821 - val_acc: 0.8632\n",
      "Epoch 19/20\n",
      "15000/15000 [==============================] - 1s 73us/step - loss: 0.0121 - acc: 0.9971 - val_loss: 0.6770 - val_acc: 0.8652\n",
      "Epoch 20/20\n",
      "15000/15000 [==============================] - 1s 73us/step - loss: 0.0041 - acc: 0.9999 - val_loss: 0.6900 - val_acc: 0.8657\n"
     ]
    }
   ],
   "source": [
    "history = model.fit(x_partial_train, y_partial_train, epochs=20, batch_size=512, validation_data=(x_val, y_val))"
   ]
  },
  {
   "cell_type": "markdown",
   "metadata": {},
   "source": [
    "Training is done, let's now see if our model overfits and see how we can takle model to improve its result"
   ]
  },
  {
   "cell_type": "code",
   "execution_count": 21,
   "metadata": {},
   "outputs": [
    {
     "data": {
      "text/plain": [
       "dict_keys(['val_loss', 'val_acc', 'loss', 'acc'])"
      ]
     },
     "execution_count": 21,
     "metadata": {},
     "output_type": "execute_result"
    }
   ],
   "source": [
    "history.history.keys()"
   ]
  },
  {
   "cell_type": "code",
   "execution_count": 22,
   "metadata": {
    "scrolled": true
   },
   "outputs": [
    {
     "data": {
      "text/plain": [
       "<Figure size 640x480 with 1 Axes>"
      ]
     },
     "metadata": {},
     "output_type": "display_data"
    }
   ],
   "source": [
    "import matplotlib.pyplot as plt\n",
    "\n",
    "history_dict = history.history\n",
    "accuracy = history_dict['acc']\n",
    "validation_accuracy = history_dict['val_acc']\n",
    "\n",
    "loss = history_dict['loss']\n",
    "validation_loss = history_dict['val_loss']\n",
    "\n",
    "epochs = range(1, len(accuracy) + 1)\n",
    "\n",
    "plt.plot(epochs, accuracy, 'bo', label='Accuracy')\n",
    "plt.plot(epochs, validation_accuracy, 'b', label='Validation Accuracy')\n",
    "plt.title('Training and Validation Accuracy')\n",
    "plt.legend()\n",
    "plt.show()"
   ]
  },
  {
   "cell_type": "markdown",
   "metadata": {},
   "source": [
    "As you can see above our training accuracy keeps growing with every epoch, up to 99% however validation accuracy peaks on 4th epoch and then starts to overfit."
   ]
  },
  {
   "cell_type": "code",
   "execution_count": 23,
   "metadata": {},
   "outputs": [
    {
     "data": {
      "image/png": "[encoded data removed]",
      "text/plain": [
       "<Figure size 432x288 with 1 Axes>"
      ]
     },
     "metadata": {
      "needs_background": "light"
     },
     "output_type": "display_data"
    }
   ],
   "source": [
    "plt.clf()\n",
    "\n",
    "plt.plot(epochs, loss, 'bo', label='Loss')\n",
    "plt.plot(epochs, validation_loss, 'b', label='Validation Loss')\n",
    "plt.title('Training and Validation Loss')\n",
    "plt.legend()\n",
    "plt.show()"
   ]
  },
  {
   "cell_type": "markdown",
   "metadata": {},
   "source": [
    "Same applies to loss metrics. Loss going down to 0 with each epoch, however validation loss overfits after 4th epoch."
   ]
  },
  {
   "cell_type": "markdown",
   "metadata": {},
   "source": [
    "#### Finally\n",
    "Let's train our model with final train and testing data for 4 epochs and see our final results"
   ]
  },
  {
   "cell_type": "code",
   "execution_count": 24,
   "metadata": {},
   "outputs": [
    {
     "name": "stdout",
     "output_type": "stream",
     "text": [
      "Epoch 1/4\n",
      "25000/25000 [==============================] - 1s 50us/step - loss: 0.4749 - acc: 0.8217\n",
      "Epoch 2/4\n",
      "25000/25000 [==============================] - 1s 45us/step - loss: 0.2658 - acc: 0.9097\n",
      "Epoch 3/4\n",
      "25000/25000 [==============================] - 1s 45us/step - loss: 0.1982 - acc: 0.9299\n",
      "Epoch 4/4\n",
      "25000/25000 [==============================] - 1s 45us/step - loss: 0.1679 - acc: 0.9404\n",
      "25000/25000 [==============================] - 1s 45us/step\n"
     ]
    }
   ],
   "source": [
    "model = models.Sequential()\n",
    "model.add(layers.Dense(16, activation='relu', input_shape=(10000,)))\n",
    "model.add(layers.Dense(16, activation='relu'))\n",
    "model.add(layers.Dense(1, activation='sigmoid'))\n",
    "model.compile(optimizer='rmsprop', loss='binary_crossentropy', metrics=['acc'])\n",
    "model.fit(x_train, y_train, epochs=4, batch_size=512)\n",
    "\n",
    "result = model.evaluate(x_test, y_test)"
   ]
  },
  {
   "cell_type": "code",
   "execution_count": 25,
   "metadata": {},
   "outputs": [
    {
     "data": {
      "text/plain": [
       "[0.3231448763561249, 0.87348]"
      ]
     },
     "execution_count": 25,
     "metadata": {},
     "output_type": "execute_result"
    }
   ],
   "source": [
    "result"
   ]
  },
  {
   "cell_type": "markdown",
   "metadata": {},
   "source": [
    "This was a fairly naive approach, but even with this approach I managed to get 88% accuracy."
   ]
  },
  {
   "cell_type": "code",
   "execution_count": 26,
   "metadata": {},
   "outputs": [
    {
     "data": {
      "text/plain": [
       "array([[0.1402615 ],\n",
       "       [0.9997028 ],\n",
       "       [0.29552507],\n",
       "       ...,\n",
       "       [0.07234982],\n",
       "       [0.04342842],\n",
       "       [0.48153386]], dtype=float32)"
      ]
     },
     "execution_count": 26,
     "metadata": {},
     "output_type": "execute_result"
    }
   ],
   "source": [
    "model.predict(x_test)"
   ]
  },
  {
   "cell_type": "markdown",
   "metadata": {},
   "source": [
    "Trying to change number of hidden units in input layers and Number of Layers to see what effect it has on model accuracy."
   ]
  },
  {
   "cell_type": "code",
   "execution_count": 27,
   "metadata": {},
   "outputs": [
    {
     "name": "stdout",
     "output_type": "stream",
     "text": [
      "Epoch 1/4\n",
      "25000/25000 [==============================] - 1s 54us/step - loss: 0.4418 - acc: 0.8109\n",
      "Epoch 2/4\n",
      "25000/25000 [==============================] - 1s 48us/step - loss: 0.2470 - acc: 0.9110\n",
      "Epoch 3/4\n",
      "25000/25000 [==============================] - 1s 49us/step - loss: 0.1903 - acc: 0.9305\n",
      "Epoch 4/4\n",
      "25000/25000 [==============================] - 1s 50us/step - loss: 0.1569 - acc: 0.9430\n",
      "25000/25000 [==============================] - 1s 39us/step\n"
     ]
    }
   ],
   "source": [
    "model = models.Sequential()\n",
    "model.add(layers.Dense(32, activation='relu', input_shape=(10000,)))\n",
    "model.add(layers.Dense(32, activation='relu'))\n",
    "model.add(layers.Dense(1, activation='sigmoid'))\n",
    "model.compile(optimizer='rmsprop', loss='binary_crossentropy', metrics=['acc'])\n",
    "model.fit(x_train, y_train, epochs=4, batch_size=512)\n",
    "\n",
    "result = model.evaluate(x_test, y_test)"
   ]
  },
  {
   "cell_type": "code",
   "execution_count": 28,
   "metadata": {},
   "outputs": [
    {
     "data": {
      "text/plain": [
       "[0.31386076488494874, 0.87996]"
      ]
     },
     "execution_count": 28,
     "metadata": {},
     "output_type": "execute_result"
    }
   ],
   "source": [
    "result"
   ]
  },
  {
   "cell_type": "code",
   "execution_count": 29,
   "metadata": {},
   "outputs": [
    {
     "name": "stdout",
     "output_type": "stream",
     "text": [
      "Epoch 1/4\n",
      "25000/25000 [==============================] - 1s 52us/step - loss: 0.4393 - acc: 0.8281\n",
      "Epoch 2/4\n",
      "25000/25000 [==============================] - 1s 46us/step - loss: 0.2686 - acc: 0.9097\n",
      "Epoch 3/4\n",
      "25000/25000 [==============================] - 1s 46us/step - loss: 0.2131 - acc: 0.9262\n",
      "Epoch 4/4\n",
      "25000/25000 [==============================] - 1s 47us/step - loss: 0.1824 - acc: 0.9369\n",
      "25000/25000 [==============================] - 1s 39us/step\n"
     ]
    }
   ],
   "source": [
    "model = models.Sequential()\n",
    "model.add(layers.Dense(16, activation='relu', input_shape=(10000,)))\n",
    "model.add(layers.Dense(1, activation='sigmoid'))\n",
    "model.compile(optimizer='rmsprop', loss='binary_crossentropy', metrics=['acc'])\n",
    "model.fit(x_train, y_train, epochs=4, batch_size=512)\n",
    "\n",
    "result = model.evaluate(x_test, y_test)"
   ]
  },
  {
   "cell_type": "code",
   "execution_count": 30,
   "metadata": {},
   "outputs": [
    {
     "data": {
      "text/plain": [
       "[0.2848530286693573, 0.88668]"
      ]
     },
     "execution_count": 30,
     "metadata": {},
     "output_type": "execute_result"
    }
   ],
   "source": [
    "result"
   ]
  },
  {
   "cell_type": "code",
   "execution_count": 31,
   "metadata": {},
   "outputs": [
    {
     "data": {
      "text/plain": [
       "array([[0.22009897],\n",
       "       [0.99956304],\n",
       "       [0.81506205],\n",
       "       ...,\n",
       "       [0.13442779],\n",
       "       [0.06842265],\n",
       "       [0.45911592]], dtype=float32)"
      ]
     },
     "execution_count": 31,
     "metadata": {},
     "output_type": "execute_result"
    }
   ],
   "source": [
    "model.predict(x_test)"
   ]
  },
  {
   "cell_type": "markdown",
   "metadata": {},
   "source": [
    "## Overfitting and Underfiting\n",
    "\n",
    "**Increasing, Decrising number of units**"
   ]
  },
  {
   "cell_type": "code",
   "execution_count": 34,
   "metadata": {},
   "outputs": [],
   "source": [
    "original_model = models.Sequential()\n",
    "original_model.add(layers.Dense(16, activation='relu', input_shape=(10000,)))\n",
    "original_model.add(layers.Dense(16, activation='relu'))\n",
    "original_model.add(layers.Dense(1, activation='sigmoid'))\n",
    "\n",
    "original_model.compile(optimizer=\"rmsprop\", loss='binary_crossentropy', metrics=['acc'])\n"
   ]
  },
  {
   "cell_type": "code",
   "execution_count": 35,
   "metadata": {},
   "outputs": [],
   "source": [
    "small_model = models.Sequential()\n",
    "small_model.add(layers.Dense(4, activation='relu', input_shape=(10000,)))\n",
    "small_model.add(layers.Dense(4, activation='relu'))\n",
    "small_model.add(layers.Dense(1, activation='sigmoid'))\n",
    "\n",
    "small_model.compile(optimizer=\"rmsprop\", loss='binary_crossentropy', metrics=['acc'])"
   ]
  },
  {
   "cell_type": "code",
   "execution_count": 38,
   "metadata": {},
   "outputs": [
    {
     "name": "stdout",
     "output_type": "stream",
     "text": [
      "Train on 25000 samples, validate on 25000 samples\n",
      "Epoch 1/20\n",
      "25000/25000 [==============================] - 3s 100us/step - loss: 0.4933 - acc: 0.8151 - val_loss: 0.3659 - val_acc: 0.8773\n",
      "Epoch 2/20\n",
      "25000/25000 [==============================] - 2s 90us/step - loss: 0.2813 - acc: 0.9044 - val_loss: 0.2963 - val_acc: 0.8846\n",
      "Epoch 3/20\n",
      "25000/25000 [==============================] - 2s 90us/step - loss: 0.2099 - acc: 0.9247 - val_loss: 0.2959 - val_acc: 0.8796\n",
      "Epoch 4/20\n",
      "25000/25000 [==============================] - 2s 90us/step - loss: 0.1749 - acc: 0.9373 - val_loss: 0.2866 - val_acc: 0.8868\n",
      "Epoch 5/20\n",
      "25000/25000 [==============================] - 2s 90us/step - loss: 0.1499 - acc: 0.9465 - val_loss: 0.3053 - val_acc: 0.8825\n",
      "Epoch 6/20\n",
      "25000/25000 [==============================] - 2s 91us/step - loss: 0.1310 - acc: 0.9548 - val_loss: 0.3462 - val_acc: 0.8742\n",
      "Epoch 7/20\n",
      "25000/25000 [==============================] - 2s 90us/step - loss: 0.1152 - acc: 0.9613 - val_loss: 0.3537 - val_acc: 0.8740\n",
      "Epoch 8/20\n",
      "25000/25000 [==============================] - 2s 90us/step - loss: 0.1035 - acc: 0.9644 - val_loss: 0.3711 - val_acc: 0.8723\n",
      "Epoch 9/20\n",
      "25000/25000 [==============================] - 2s 90us/step - loss: 0.0904 - acc: 0.9707 - val_loss: 0.4092 - val_acc: 0.8647\n",
      "Epoch 10/20\n",
      "25000/25000 [==============================] - 2s 92us/step - loss: 0.0794 - acc: 0.9751 - val_loss: 0.4394 - val_acc: 0.8652\n",
      "Epoch 11/20\n",
      "25000/25000 [==============================] - 2s 91us/step - loss: 0.0706 - acc: 0.9775 - val_loss: 0.4603 - val_acc: 0.8633\n",
      "Epoch 12/20\n",
      "25000/25000 [==============================] - 2s 93us/step - loss: 0.0631 - acc: 0.9806 - val_loss: 0.5017 - val_acc: 0.8615\n",
      "Epoch 13/20\n",
      "25000/25000 [==============================] - 2s 93us/step - loss: 0.0533 - acc: 0.9842 - val_loss: 0.5429 - val_acc: 0.8572\n",
      "Epoch 14/20\n",
      "25000/25000 [==============================] - 2s 95us/step - loss: 0.0484 - acc: 0.9859 - val_loss: 0.6127 - val_acc: 0.8468\n",
      "Epoch 15/20\n",
      "25000/25000 [==============================] - 2s 95us/step - loss: 0.0397 - acc: 0.9900 - val_loss: 0.6111 - val_acc: 0.8518\n",
      "Epoch 16/20\n",
      "25000/25000 [==============================] - 2s 90us/step - loss: 0.0355 - acc: 0.9900 - val_loss: 0.6374 - val_acc: 0.8520\n",
      "Epoch 17/20\n",
      "25000/25000 [==============================] - 2s 92us/step - loss: 0.0310 - acc: 0.9916 - val_loss: 0.7048 - val_acc: 0.8448\n",
      "Epoch 18/20\n",
      "25000/25000 [==============================] - 2s 98us/step - loss: 0.0261 - acc: 0.9931 - val_loss: 0.7089 - val_acc: 0.8494\n",
      "Epoch 19/20\n",
      "25000/25000 [==============================] - 2s 89us/step - loss: 0.0210 - acc: 0.9944 - val_loss: 0.7417 - val_acc: 0.8513\n",
      "Epoch 20/20\n",
      "25000/25000 [==============================] - 2s 93us/step - loss: 0.0169 - acc: 0.9960 - val_loss: 0.7838 - val_acc: 0.8506\n"
     ]
    }
   ],
   "source": [
    "original_hist = original_model.fit(x_train, y_train, epochs=20, batch_size=512, validation_data=(x_test, y_test))"
   ]
  },
  {
   "cell_type": "code",
   "execution_count": 39,
   "metadata": {},
   "outputs": [
    {
     "name": "stdout",
     "output_type": "stream",
     "text": [
      "Train on 25000 samples, validate on 25000 samples\n",
      "Epoch 1/20\n",
      "25000/25000 [==============================] - 2s 100us/step - loss: 0.5641 - acc: 0.7770 - val_loss: 0.4800 - val_acc: 0.8634\n",
      "Epoch 2/20\n",
      "25000/25000 [==============================] - 2s 90us/step - loss: 0.3970 - acc: 0.8885 - val_loss: 0.3747 - val_acc: 0.8785\n",
      "Epoch 3/20\n",
      "25000/25000 [==============================] - 2s 90us/step - loss: 0.3035 - acc: 0.9076 - val_loss: 0.3270 - val_acc: 0.8790\n",
      "Epoch 4/20\n",
      "25000/25000 [==============================] - 2s 90us/step - loss: 0.2492 - acc: 0.9204 - val_loss: 0.2939 - val_acc: 0.8900\n",
      "Epoch 5/20\n",
      "25000/25000 [==============================] - 2s 90us/step - loss: 0.2143 - acc: 0.9289 - val_loss: 0.2828 - val_acc: 0.8896\n",
      "Epoch 6/20\n",
      "25000/25000 [==============================] - 2s 90us/step - loss: 0.1898 - acc: 0.9370 - val_loss: 0.2817 - val_acc: 0.8885\n",
      "Epoch 7/20\n",
      "25000/25000 [==============================] - 2s 91us/step - loss: 0.1709 - acc: 0.9430 - val_loss: 0.2817 - val_acc: 0.8874\n",
      "Epoch 8/20\n",
      "25000/25000 [==============================] - 2s 91us/step - loss: 0.1565 - acc: 0.9486 - val_loss: 0.2881 - val_acc: 0.8854\n",
      "Epoch 9/20\n",
      "25000/25000 [==============================] - 2s 93us/step - loss: 0.1438 - acc: 0.9535 - val_loss: 0.2949 - val_acc: 0.8834\n",
      "Epoch 10/20\n",
      "25000/25000 [==============================] - 2s 91us/step - loss: 0.1338 - acc: 0.9561 - val_loss: 0.3058 - val_acc: 0.8810\n",
      "Epoch 11/20\n",
      "25000/25000 [==============================] - 2s 93us/step - loss: 0.1236 - acc: 0.9606 - val_loss: 0.3162 - val_acc: 0.8788\n",
      "Epoch 12/20\n",
      "25000/25000 [==============================] - 2s 91us/step - loss: 0.1159 - acc: 0.9629 - val_loss: 0.3299 - val_acc: 0.8756\n",
      "Epoch 13/20\n",
      "25000/25000 [==============================] - 2s 92us/step - loss: 0.1080 - acc: 0.9659 - val_loss: 0.3374 - val_acc: 0.8761\n",
      "Epoch 14/20\n",
      "25000/25000 [==============================] - 2s 95us/step - loss: 0.1014 - acc: 0.9694 - val_loss: 0.3510 - val_acc: 0.8736\n",
      "Epoch 15/20\n",
      "25000/25000 [==============================] - 2s 98us/step - loss: 0.0948 - acc: 0.9707 - val_loss: 0.3662 - val_acc: 0.8709\n",
      "Epoch 16/20\n",
      "25000/25000 [==============================] - 2s 88us/step - loss: 0.0890 - acc: 0.9730 - val_loss: 0.3822 - val_acc: 0.8688\n",
      "Epoch 17/20\n",
      "25000/25000 [==============================] - 2s 93us/step - loss: 0.0831 - acc: 0.9758 - val_loss: 0.3962 - val_acc: 0.8691\n",
      "Epoch 18/20\n",
      "25000/25000 [==============================] - 2s 92us/step - loss: 0.0780 - acc: 0.9772 - val_loss: 0.4137 - val_acc: 0.8668\n",
      "Epoch 19/20\n",
      "25000/25000 [==============================] - 2s 94us/step - loss: 0.0729 - acc: 0.9791 - val_loss: 0.4308 - val_acc: 0.8647\n",
      "Epoch 20/20\n",
      "25000/25000 [==============================] - 2s 90us/step - loss: 0.0685 - acc: 0.9806 - val_loss: 0.4486 - val_acc: 0.8630\n"
     ]
    }
   ],
   "source": [
    "small_hist = small_model.fit(x_train, y_train, epochs=20, batch_size=512, validation_data=(x_test, y_test))"
   ]
  },
  {
   "cell_type": "code",
   "execution_count": 40,
   "metadata": {},
   "outputs": [],
   "source": [
    "original_val_loss = original_hist.history['val_loss']\n",
    "small_val_loss = small_hist.history['val_loss']\n"
   ]
  },
  {
   "cell_type": "code",
   "execution_count": 42,
   "metadata": {
    "scrolled": true
   },
   "outputs": [
    {
     "data": {
      "image/png": "[encoded data removed]",
      "text/plain": [
       "<Figure size 432x288 with 1 Axes>"
      ]
     },
     "metadata": {
      "needs_background": "light"
     },
     "output_type": "display_data"
    }
   ],
   "source": [
    "epochs = range(1, 21)\n",
    "\n",
    "plt.plot(epochs, original_val_loss, 'b+', label='Original model Val Loss')\n",
    "plt.plot(epochs, small_val_loss, 'bo', label='Smaller model Val Loss')\n",
    "plt.title(\"Origin and Smaller model Validation loss\")\n",
    "plt.legend()\n",
    "plt.show()"
   ]
  },
  {
   "cell_type": "markdown",
   "metadata": {},
   "source": [
    "As you can see, smaller model starts overfitting later epochs 6th, in comparison with original model that starts to overfit after 4th epoch"
   ]
  },
  {
   "cell_type": "markdown",
   "metadata": {},
   "source": [
    "Now we will try increase number of hidden units"
   ]
  },
  {
   "cell_type": "code",
   "execution_count": 48,
   "metadata": {},
   "outputs": [],
   "source": [
    "bigger_model = models.Sequential()\n",
    "bigger_model.add(layers.Dense(512, activation='relu', input_shape=(10000,)))\n",
    "bigger_model.add(layers.Dense(512, activation='relu'))\n",
    "bigger_model.add(layers.Dense(1, activation='sigmoid'))\n",
    "\n",
    "bigger_model.compile(optimizer=\"rmsprop\", loss='binary_crossentropy', metrics=['acc'])"
   ]
  },
  {
   "cell_type": "code",
   "execution_count": 49,
   "metadata": {},
   "outputs": [
    {
     "name": "stdout",
     "output_type": "stream",
     "text": [
      "Train on 25000 samples, validate on 25000 samples\n",
      "Epoch 1/20\n",
      "25000/25000 [==============================] - 3s 134us/step - loss: 0.4529 - acc: 0.7975 - val_loss: 0.2806 - val_acc: 0.8888\n",
      "Epoch 2/20\n",
      "25000/25000 [==============================] - 3s 120us/step - loss: 0.2217 - acc: 0.9115 - val_loss: 0.3052 - val_acc: 0.8678\n",
      "Epoch 3/20\n",
      "25000/25000 [==============================] - 3s 120us/step - loss: 0.1231 - acc: 0.9525 - val_loss: 0.3279 - val_acc: 0.8776\n",
      "Epoch 4/20\n",
      "25000/25000 [==============================] - 3s 121us/step - loss: 0.0733 - acc: 0.9763 - val_loss: 0.4814 - val_acc: 0.8262\n",
      "Epoch 5/20\n",
      "25000/25000 [==============================] - 3s 119us/step - loss: 0.0616 - acc: 0.9884 - val_loss: 0.4107 - val_acc: 0.8797\n",
      "Epoch 6/20\n",
      "25000/25000 [==============================] - 3s 120us/step - loss: 0.0037 - acc: 0.9996 - val_loss: 0.5978 - val_acc: 0.8748\n",
      "Epoch 7/20\n",
      "25000/25000 [==============================] - 3s 120us/step - loss: 0.0952 - acc: 0.9888 - val_loss: 0.6274 - val_acc: 0.8749\n",
      "Epoch 8/20\n",
      "25000/25000 [==============================] - 3s 120us/step - loss: 0.0011 - acc: 0.9998 - val_loss: 0.7086 - val_acc: 0.8745\n",
      "Epoch 9/20\n",
      "25000/25000 [==============================] - 3s 120us/step - loss: 0.0791 - acc: 0.9904 - val_loss: 0.7963 - val_acc: 0.8656\n",
      "Epoch 10/20\n",
      "25000/25000 [==============================] - 3s 121us/step - loss: 6.7132e-04 - acc: 0.9999 - val_loss: 1.3344 - val_acc: 0.8113\n",
      "Epoch 11/20\n",
      "25000/25000 [==============================] - 3s 120us/step - loss: 0.0498 - acc: 0.9918 - val_loss: 0.6870 - val_acc: 0.8754\n",
      "Epoch 12/20\n",
      "25000/25000 [==============================] - 3s 121us/step - loss: 2.1765e-04 - acc: 1.0000 - val_loss: 0.8093 - val_acc: 0.8767\n",
      "Epoch 13/20\n",
      "25000/25000 [==============================] - 3s 120us/step - loss: 2.9598e-05 - acc: 1.0000 - val_loss: 0.9315 - val_acc: 0.8769\n",
      "Epoch 14/20\n",
      "25000/25000 [==============================] - 3s 121us/step - loss: 0.0732 - acc: 0.9917 - val_loss: 1.1355 - val_acc: 0.8554\n",
      "Epoch 15/20\n",
      "25000/25000 [==============================] - 3s 123us/step - loss: 1.4677e-04 - acc: 0.9999 - val_loss: 0.9259 - val_acc: 0.8753\n",
      "Epoch 16/20\n",
      "25000/25000 [==============================] - 3s 131us/step - loss: 7.9216e-06 - acc: 1.0000 - val_loss: 0.9565 - val_acc: 0.8732\n",
      "Epoch 17/20\n",
      "25000/25000 [==============================] - 3s 133us/step - loss: 0.0667 - acc: 0.9924 - val_loss: 0.8840 - val_acc: 0.8746\n",
      "Epoch 18/20\n",
      "25000/25000 [==============================] - 3s 127us/step - loss: 8.0125e-06 - acc: 1.0000 - val_loss: 0.9124 - val_acc: 0.8747\n",
      "Epoch 19/20\n",
      "25000/25000 [==============================] - 3s 122us/step - loss: 4.0203e-06 - acc: 1.0000 - val_loss: 0.9454 - val_acc: 0.8749\n",
      "Epoch 20/20\n",
      "25000/25000 [==============================] - 3s 122us/step - loss: 1.8891e-06 - acc: 1.0000 - val_loss: 0.9985 - val_acc: 0.8752\n"
     ]
    }
   ],
   "source": [
    "bigger_model_hist = bigger_model.fit(x_train, y_train, epochs=20, batch_size=512, validation_data=(x_test, y_test))"
   ]
  },
  {
   "cell_type": "code",
   "execution_count": 50,
   "metadata": {},
   "outputs": [
    {
     "data": {
      "image/png": "[encoded data removed]",
      "text/plain": [
       "<Figure size 432x288 with 1 Axes>"
      ]
     },
     "metadata": {
      "needs_background": "light"
     },
     "output_type": "display_data"
    }
   ],
   "source": [
    "bigger_model_val_loss = bigger_model_hist.history['val_loss']\n",
    "epochs = range(1, 21)\n",
    "\n",
    "plt.clf()\n",
    "plt.plot(epochs, original_val_loss, 'b+', label='Original model Val Loss')\n",
    "plt.plot(epochs, bigger_model_val_loss, 'bo', label='Bigger model Val Loss')\n",
    "plt.title(\"Origin and Bigger model Validation loss\")\n",
    "plt.legend()\n",
    "plt.show()"
   ]
  },
  {
   "cell_type": "markdown",
   "metadata": {},
   "source": [
    "Bigger model start to overfit almost immideately."
   ]
  },
  {
   "cell_type": "code",
   "execution_count": 52,
   "metadata": {},
   "outputs": [
    {
     "data": {
      "image/png": "[encoded data removed]",
      "text/plain": [
       "<Figure size 432x288 with 1 Axes>"
      ]
     },
     "metadata": {
      "needs_background": "light"
     },
     "output_type": "display_data"
    }
   ],
   "source": [
    "bigger_model_loss = bigger_model_hist.history['loss']\n",
    "original_model_loss = original_hist.history['loss'] \n",
    "epochs = range(1, 21)\n",
    "\n",
    "plt.clf()\n",
    "plt.plot(epochs, original_model_loss, 'b+', label='Original Loss')\n",
    "plt.plot(epochs, bigger_model_loss, 'bo', label='Bigger Loss')\n",
    "plt.title(\"Origin and Bigger model loss\")\n",
    "plt.legend()\n",
    "plt.show()"
   ]
  },
  {
   "cell_type": "markdown",
   "metadata": {},
   "source": [
    "Bigger model are much faster to get close to 0 in training loss, however they are easy to overfit due to bigger capacity"
   ]
  },
  {
   "cell_type": "markdown",
   "metadata": {},
   "source": [
    "## Adding weight regularization\n",
    "\n",
    "Now we will try to add weight regularization to its layers and see how model performs"
   ]
  },
  {
   "cell_type": "code",
   "execution_count": 55,
   "metadata": {},
   "outputs": [],
   "source": [
    "from keras import regularizers\n",
    "\n",
    "l2_model = models.Sequential()\n",
    "l2_model.add(layers.Dense(16, activation='relu', \n",
    "                          kernel_regularizer=regularizers.l2(0.001), \n",
    "                          input_shape=(10000,)))\n",
    "l2_model.add(layers.Dense(16, activation='relu', kernel_regularizer=regularizers.l2(0.001)))\n",
    "l2_model.add(layers.Dense(1, activation='sigmoid'))\n",
    "\n",
    "l2_model.compile(optimizer='rmsprop', loss='binary_crossentropy', metrics=['acc'])"
   ]
  },
  {
   "cell_type": "code",
   "execution_count": 56,
   "metadata": {},
   "outputs": [
    {
     "name": "stdout",
     "output_type": "stream",
     "text": [
      "Train on 25000 samples, validate on 25000 samples\n",
      "Epoch 1/20\n",
      "25000/25000 [==============================] - 3s 104us/step - loss: 0.5135 - acc: 0.8144 - val_loss: 0.3840 - val_acc: 0.8799\n",
      "Epoch 2/20\n",
      "25000/25000 [==============================] - 2s 91us/step - loss: 0.3185 - acc: 0.9036 - val_loss: 0.3335 - val_acc: 0.8889\n",
      "Epoch 3/20\n",
      "25000/25000 [==============================] - 2s 91us/step - loss: 0.2691 - acc: 0.9200 - val_loss: 0.3373 - val_acc: 0.8834\n",
      "Epoch 4/20\n",
      "25000/25000 [==============================] - 2s 91us/step - loss: 0.2487 - acc: 0.9283 - val_loss: 0.3468 - val_acc: 0.8795\n",
      "Epoch 5/20\n",
      "25000/25000 [==============================] - 2s 95us/step - loss: 0.2359 - acc: 0.9336 - val_loss: 0.3467 - val_acc: 0.8821\n",
      "Epoch 6/20\n",
      "25000/25000 [==============================] - 2s 92us/step - loss: 0.2314 - acc: 0.9346 - val_loss: 0.3562 - val_acc: 0.8799\n",
      "Epoch 7/20\n",
      "25000/25000 [==============================] - 2s 92us/step - loss: 0.2210 - acc: 0.9410 - val_loss: 0.3560 - val_acc: 0.8802\n",
      "Epoch 8/20\n",
      "25000/25000 [==============================] - 2s 92us/step - loss: 0.2190 - acc: 0.9408 - val_loss: 0.3640 - val_acc: 0.8778\n",
      "Epoch 9/20\n",
      "25000/25000 [==============================] - 2s 93us/step - loss: 0.2114 - acc: 0.9428 - val_loss: 0.3751 - val_acc: 0.8746\n",
      "Epoch 10/20\n",
      "25000/25000 [==============================] - 2s 92us/step - loss: 0.2096 - acc: 0.9450 - val_loss: 0.3731 - val_acc: 0.8758\n",
      "Epoch 11/20\n",
      "25000/25000 [==============================] - 2s 91us/step - loss: 0.2091 - acc: 0.9430 - val_loss: 0.3996 - val_acc: 0.8689\n",
      "Epoch 12/20\n",
      "25000/25000 [==============================] - 2s 93us/step - loss: 0.2057 - acc: 0.9437 - val_loss: 0.3850 - val_acc: 0.8739\n",
      "Epoch 13/20\n",
      "25000/25000 [==============================] - 2s 96us/step - loss: 0.1972 - acc: 0.9478 - val_loss: 0.4230 - val_acc: 0.8659\n",
      "Epoch 14/20\n",
      "25000/25000 [==============================] - 2s 94us/step - loss: 0.2008 - acc: 0.9447 - val_loss: 0.4073 - val_acc: 0.8683\n",
      "Epoch 15/20\n",
      "25000/25000 [==============================] - 2s 93us/step - loss: 0.1940 - acc: 0.9494 - val_loss: 0.3992 - val_acc: 0.8711\n",
      "Epoch 16/20\n",
      "25000/25000 [==============================] - 2s 93us/step - loss: 0.1962 - acc: 0.9471 - val_loss: 0.4401 - val_acc: 0.8577\n",
      "Epoch 17/20\n",
      "25000/25000 [==============================] - 2s 92us/step - loss: 0.1928 - acc: 0.9488 - val_loss: 0.4081 - val_acc: 0.8682\n",
      "Epoch 18/20\n",
      "25000/25000 [==============================] - 2s 95us/step - loss: 0.1898 - acc: 0.9514 - val_loss: 0.4240 - val_acc: 0.8656\n",
      "Epoch 19/20\n",
      "25000/25000 [==============================] - 2s 94us/step - loss: 0.1895 - acc: 0.9489 - val_loss: 0.4202 - val_acc: 0.8671\n",
      "Epoch 20/20\n",
      "25000/25000 [==============================] - 2s 91us/step - loss: 0.1829 - acc: 0.9536 - val_loss: 0.4175 - val_acc: 0.8706\n"
     ]
    }
   ],
   "source": [
    "l2_model_hist = l2_model.fit(x_train, y_train, epochs=20, batch_size=512, validation_data=(x_test, y_test))"
   ]
  },
  {
   "cell_type": "code",
   "execution_count": 58,
   "metadata": {},
   "outputs": [
    {
     "data": {
      "image/png": "[encoded data removed]",
      "text/plain": [
       "<Figure size 432x288 with 1 Axes>"
      ]
     },
     "metadata": {
      "needs_background": "light"
     },
     "output_type": "display_data"
    }
   ],
   "source": [
    "l2_model_val_loss = l2_model_hist.history['val_loss']\n",
    "\n",
    "plt.plot(epochs, original_val_loss, 'b+', label=\"Origin Val Loss\")\n",
    "plt.plot(epochs, l2_model_val_loss, 'bo', label=\"L2 Val Loss\")\n",
    "plt.xlabel(\"Epochs\")\n",
    "plt.ylabel(\"Validation Loss\")\n",
    "plt.title(\"Origin and L2 Validation Loss\")\n",
    "plt.legend()\n",
    "plt.show()"
   ]
  },
  {
   "cell_type": "code",
   "execution_count": 59,
   "metadata": {},
   "outputs": [],
   "source": [
    "l1_model = models.Sequential()\n",
    "l1_model.add(layers.Dense(16, activation='relu', \n",
    "                          kernel_regularizer=regularizers.l1(0.001), \n",
    "                          input_shape=(10000,)))\n",
    "l1_model.add(layers.Dense(16, activation='relu', kernel_regularizer=regularizers.l2(0.001)))\n",
    "l1_model.add(layers.Dense(1, activation='sigmoid'))\n",
    "\n",
    "l1_model.compile(optimizer='rmsprop', loss='binary_crossentropy', metrics=['acc'])"
   ]
  },
  {
   "cell_type": "code",
   "execution_count": 60,
   "metadata": {},
   "outputs": [
    {
     "name": "stdout",
     "output_type": "stream",
     "text": [
      "Train on 25000 samples, validate on 25000 samples\n",
      "Epoch 1/20\n",
      "25000/25000 [==============================] - 3s 108us/step - loss: 0.8848 - acc: 0.7798 - val_loss: 0.6139 - val_acc: 0.8463\n",
      "Epoch 2/20\n",
      "25000/25000 [==============================] - 2s 94us/step - loss: 0.5881 - acc: 0.8509 - val_loss: 0.5687 - val_acc: 0.8529\n",
      "Epoch 3/20\n",
      "25000/25000 [==============================] - 2s 92us/step - loss: 0.5509 - acc: 0.8596 - val_loss: 0.5766 - val_acc: 0.8410\n",
      "Epoch 4/20\n",
      "25000/25000 [==============================] - 2s 94us/step - loss: 0.5348 - acc: 0.8621 - val_loss: 0.5326 - val_acc: 0.8647\n",
      "Epoch 5/20\n",
      "25000/25000 [==============================] - 2s 92us/step - loss: 0.5289 - acc: 0.8628 - val_loss: 0.5171 - val_acc: 0.8684\n",
      "Epoch 6/20\n",
      "25000/25000 [==============================] - 2s 92us/step - loss: 0.5145 - acc: 0.8682 - val_loss: 0.5126 - val_acc: 0.8702\n",
      "Epoch 7/20\n",
      "25000/25000 [==============================] - 2s 91us/step - loss: 0.5173 - acc: 0.8666 - val_loss: 0.5089 - val_acc: 0.8716\n",
      "Epoch 8/20\n",
      "25000/25000 [==============================] - 2s 91us/step - loss: 0.5072 - acc: 0.8698 - val_loss: 0.5010 - val_acc: 0.8714\n",
      "Epoch 9/20\n",
      "25000/25000 [==============================] - 2s 96us/step - loss: 0.5014 - acc: 0.8720 - val_loss: 0.5950 - val_acc: 0.8222\n",
      "Epoch 10/20\n",
      "25000/25000 [==============================] - 2s 96us/step - loss: 0.4996 - acc: 0.8719 - val_loss: 0.5009 - val_acc: 0.8717\n",
      "Epoch 11/20\n",
      "25000/25000 [==============================] - 2s 99us/step - loss: 0.4921 - acc: 0.8742 - val_loss: 0.4890 - val_acc: 0.8748\n",
      "Epoch 12/20\n",
      "25000/25000 [==============================] - 2s 94us/step - loss: 0.4841 - acc: 0.8792 - val_loss: 0.5138 - val_acc: 0.8617\n",
      "Epoch 13/20\n",
      "25000/25000 [==============================] - 2s 97us/step - loss: 0.4792 - acc: 0.8784 - val_loss: 0.4810 - val_acc: 0.8775\n",
      "Epoch 14/20\n",
      "25000/25000 [==============================] - 3s 100us/step - loss: 0.4699 - acc: 0.8844 - val_loss: 0.5289 - val_acc: 0.8525\n",
      "Epoch 15/20\n",
      "25000/25000 [==============================] - 2s 92us/step - loss: 0.4669 - acc: 0.8846 - val_loss: 0.4742 - val_acc: 0.8796\n",
      "Epoch 16/20\n",
      "25000/25000 [==============================] - 2s 92us/step - loss: 0.4579 - acc: 0.8857 - val_loss: 0.5096 - val_acc: 0.8615\n",
      "Epoch 17/20\n",
      "25000/25000 [==============================] - 2s 91us/step - loss: 0.4529 - acc: 0.8904 - val_loss: 0.4661 - val_acc: 0.8827\n",
      "Epoch 18/20\n",
      "25000/25000 [==============================] - 2s 97us/step - loss: 0.4459 - acc: 0.8929 - val_loss: 0.4678 - val_acc: 0.8791\n",
      "Epoch 19/20\n",
      "25000/25000 [==============================] - 2s 94us/step - loss: 0.4384 - acc: 0.8942 - val_loss: 0.4617 - val_acc: 0.8820\n",
      "Epoch 20/20\n",
      "25000/25000 [==============================] - 2s 92us/step - loss: 0.4340 - acc: 0.8965 - val_loss: 0.4614 - val_acc: 0.8832\n"
     ]
    }
   ],
   "source": [
    "l1_model_hist = l1_model.fit(x_train, y_train, epochs=20, batch_size=512, validation_data=(x_test, y_test))"
   ]
  },
  {
   "cell_type": "code",
   "execution_count": 61,
   "metadata": {},
   "outputs": [
    {
     "data": {
      "image/png": "[encoded data removed]",
      "text/plain": [
       "<Figure size 432x288 with 1 Axes>"
      ]
     },
     "metadata": {
      "needs_background": "light"
     },
     "output_type": "display_data"
    }
   ],
   "source": [
    "l1_model_val_loss = l1_model_hist.history['val_loss']\n",
    "\n",
    "plt.plot(epochs, original_val_loss, 'b+', label=\"Origin Val Loss\")\n",
    "plt.plot(epochs, l1_model_val_loss, 'bo', label=\"L1 Val Loss\")\n",
    "plt.xlabel(\"Epochs\")\n",
    "plt.ylabel(\"Validation Loss\")\n",
    "plt.title(\"Origin and L1 Validation Loss\")\n",
    "plt.legend()\n",
    "plt.show()"
   ]
  },
  {
   "cell_type": "code",
   "execution_count": 62,
   "metadata": {},
   "outputs": [],
   "source": [
    "l1_l2_model = models.Sequential()\n",
    "l1_l2_model.add(layers.Dense(16, activation='relu', \n",
    "                          kernel_regularizer=regularizers.l1_l2(l1=0.001, l2=0.001), \n",
    "                          input_shape=(10000,)))\n",
    "l1_l2_model.add(layers.Dense(16, activation='relu', kernel_regularizer=regularizers.l2(0.001)))\n",
    "l1_l2_model.add(layers.Dense(1, activation='sigmoid'))\n",
    "\n",
    "l1_l2_model.compile(optimizer='rmsprop', loss='binary_crossentropy', metrics=['acc'])"
   ]
  },
  {
   "cell_type": "code",
   "execution_count": 63,
   "metadata": {},
   "outputs": [
    {
     "name": "stdout",
     "output_type": "stream",
     "text": [
      "Train on 25000 samples, validate on 25000 samples\n",
      "Epoch 1/20\n",
      "25000/25000 [==============================] - 3s 108us/step - loss: 0.9113 - acc: 0.7450 - val_loss: 0.6471 - val_acc: 0.8454\n",
      "Epoch 2/20\n",
      "25000/25000 [==============================] - 2s 91us/step - loss: 0.6144 - acc: 0.8376 - val_loss: 0.6053 - val_acc: 0.8296\n",
      "Epoch 3/20\n",
      "25000/25000 [==============================] - 2s 91us/step - loss: 0.5687 - acc: 0.8520 - val_loss: 0.5619 - val_acc: 0.8579\n",
      "Epoch 4/20\n",
      "25000/25000 [==============================] - 2s 94us/step - loss: 0.5482 - acc: 0.8580 - val_loss: 0.5343 - val_acc: 0.8626\n",
      "Epoch 5/20\n",
      "25000/25000 [==============================] - 2s 92us/step - loss: 0.5373 - acc: 0.8609 - val_loss: 0.5300 - val_acc: 0.8643\n",
      "Epoch 6/20\n",
      "25000/25000 [==============================] - 2s 93us/step - loss: 0.5187 - acc: 0.8674 - val_loss: 0.5652 - val_acc: 0.8380\n",
      "Epoch 7/20\n",
      "25000/25000 [==============================] - 2s 92us/step - loss: 0.5196 - acc: 0.8663 - val_loss: 0.5098 - val_acc: 0.8689\n",
      "Epoch 8/20\n",
      "25000/25000 [==============================] - 2s 93us/step - loss: 0.5115 - acc: 0.8677 - val_loss: 0.5038 - val_acc: 0.8706\n",
      "Epoch 9/20\n",
      "25000/25000 [==============================] - 2s 93us/step - loss: 0.5041 - acc: 0.8716 - val_loss: 0.5016 - val_acc: 0.8716\n",
      "Epoch 10/20\n",
      "25000/25000 [==============================] - 2s 92us/step - loss: 0.4977 - acc: 0.8737 - val_loss: 0.4981 - val_acc: 0.8718\n",
      "Epoch 11/20\n",
      "25000/25000 [==============================] - 2s 92us/step - loss: 0.4984 - acc: 0.8744 - val_loss: 0.4958 - val_acc: 0.8724\n",
      "Epoch 12/20\n",
      "25000/25000 [==============================] - 2s 92us/step - loss: 0.4860 - acc: 0.8794 - val_loss: 0.4932 - val_acc: 0.8734\n",
      "Epoch 13/20\n",
      "25000/25000 [==============================] - 2s 92us/step - loss: 0.4865 - acc: 0.8777 - val_loss: 0.4954 - val_acc: 0.8714\n",
      "Epoch 14/20\n",
      "25000/25000 [==============================] - 2s 94us/step - loss: 0.4797 - acc: 0.8806 - val_loss: 0.4853 - val_acc: 0.8750\n",
      "Epoch 15/20\n",
      "25000/25000 [==============================] - 2s 92us/step - loss: 0.4787 - acc: 0.8803 - val_loss: 0.4883 - val_acc: 0.8759\n",
      "Epoch 16/20\n",
      "25000/25000 [==============================] - 2s 92us/step - loss: 0.4735 - acc: 0.8800 - val_loss: 0.4937 - val_acc: 0.8718\n",
      "Epoch 17/20\n",
      "25000/25000 [==============================] - 2s 94us/step - loss: 0.4680 - acc: 0.8835 - val_loss: 0.5014 - val_acc: 0.8674\n",
      "Epoch 18/20\n",
      "25000/25000 [==============================] - 2s 92us/step - loss: 0.4656 - acc: 0.8848 - val_loss: 0.4768 - val_acc: 0.8778\n",
      "Epoch 19/20\n",
      "25000/25000 [==============================] - 2s 92us/step - loss: 0.4673 - acc: 0.8842 - val_loss: 0.4808 - val_acc: 0.8784\n",
      "Epoch 20/20\n",
      "25000/25000 [==============================] - 2s 95us/step - loss: 0.4591 - acc: 0.8888 - val_loss: 0.5181 - val_acc: 0.8588\n"
     ]
    }
   ],
   "source": [
    "l1_l2_model_hist = l1_l2_model.fit(x_train, y_train, epochs=20, batch_size=512, validation_data=(x_test, y_test))"
   ]
  },
  {
   "cell_type": "code",
   "execution_count": 64,
   "metadata": {},
   "outputs": [
    {
     "data": {
      "image/png": "[encoded data removed]",
      "text/plain": [
       "<Figure size 432x288 with 1 Axes>"
      ]
     },
     "metadata": {
      "needs_background": "light"
     },
     "output_type": "display_data"
    }
   ],
   "source": [
    "l1_l2_model_val_loss = l1_l2_model_hist.history['val_loss']\n",
    "\n",
    "plt.plot(epochs, original_val_loss, 'b+', label=\"Origin Val Loss\")\n",
    "plt.plot(epochs, l1_l2_model_val_loss, 'bo', label=\"L1 and l2 Val Loss\")\n",
    "plt.xlabel(\"Epochs\")\n",
    "plt.ylabel(\"Validation Loss\")\n",
    "plt.title(\"Origin and L1 and L2 Validation Loss\")\n",
    "plt.legend()\n",
    "plt.show()"
   ]
  },
  {
   "cell_type": "markdown",
   "metadata": {},
   "source": [
    "## Adding dropout"
   ]
  },
  {
   "cell_type": "code",
   "execution_count": 69,
   "metadata": {},
   "outputs": [],
   "source": [
    "dpt_model = models.Sequential()\n",
    "dpt_model.add(layers.Dense(16, activation='relu', input_shape=(10000,)))\n",
    "dpt_model.add(layers.Dropout(0.5))\n",
    "dpt_model.add(layers.Dense(16, activation='relu'))\n",
    "dpt_model.add(layers.Dropout(0.5))\n",
    "dpt_model.add(layers.Dense(1, activation='sigmoid'))\n",
    "\n",
    "dpt_model.compile(optimizer='rmsprop', loss='binary_crossentropy', metrics=['acc'])\n"
   ]
  },
  {
   "cell_type": "code",
   "execution_count": 70,
   "metadata": {},
   "outputs": [
    {
     "name": "stdout",
     "output_type": "stream",
     "text": [
      "Train on 25000 samples, validate on 25000 samples\n",
      "Epoch 1/20\n",
      "25000/25000 [==============================] - 3s 111us/step - loss: 0.5947 - acc: 0.6761 - val_loss: 0.4435 - val_acc: 0.8645\n",
      "Epoch 2/20\n",
      "25000/25000 [==============================] - 2s 94us/step - loss: 0.4414 - acc: 0.8112 - val_loss: 0.3287 - val_acc: 0.8817\n",
      "Epoch 3/20\n",
      "25000/25000 [==============================] - 2s 92us/step - loss: 0.3539 - acc: 0.8640 - val_loss: 0.2877 - val_acc: 0.8902\n",
      "Epoch 4/20\n",
      "25000/25000 [==============================] - 2s 92us/step - loss: 0.2994 - acc: 0.8932 - val_loss: 0.2844 - val_acc: 0.8878\n",
      "Epoch 5/20\n",
      "25000/25000 [==============================] - 2s 93us/step - loss: 0.2602 - acc: 0.9085 - val_loss: 0.2765 - val_acc: 0.8906\n",
      "Epoch 6/20\n",
      "25000/25000 [==============================] - 2s 92us/step - loss: 0.2268 - acc: 0.9212 - val_loss: 0.2873 - val_acc: 0.8900\n",
      "Epoch 7/20\n",
      "25000/25000 [==============================] - 2s 91us/step - loss: 0.2013 - acc: 0.9327 - val_loss: 0.3100 - val_acc: 0.8851\n",
      "Epoch 8/20\n",
      "25000/25000 [==============================] - 2s 92us/step - loss: 0.1846 - acc: 0.9378 - val_loss: 0.3211 - val_acc: 0.8850\n",
      "Epoch 9/20\n",
      "25000/25000 [==============================] - 2s 96us/step - loss: 0.1692 - acc: 0.9407 - val_loss: 0.3439 - val_acc: 0.8832\n",
      "Epoch 10/20\n",
      "25000/25000 [==============================] - 2s 92us/step - loss: 0.1555 - acc: 0.9469 - val_loss: 0.3770 - val_acc: 0.8825\n",
      "Epoch 11/20\n",
      "25000/25000 [==============================] - 2s 92us/step - loss: 0.1457 - acc: 0.9504 - val_loss: 0.3984 - val_acc: 0.8790\n",
      "Epoch 12/20\n",
      "25000/25000 [==============================] - 2s 92us/step - loss: 0.1374 - acc: 0.9524 - val_loss: 0.4138 - val_acc: 0.8806\n",
      "Epoch 13/20\n",
      "25000/25000 [==============================] - 2s 95us/step - loss: 0.1299 - acc: 0.9558 - val_loss: 0.4504 - val_acc: 0.8781\n",
      "Epoch 14/20\n",
      "25000/25000 [==============================] - 2s 93us/step - loss: 0.1232 - acc: 0.9585 - val_loss: 0.4525 - val_acc: 0.8790\n",
      "Epoch 15/20\n",
      "25000/25000 [==============================] - 2s 93us/step - loss: 0.1191 - acc: 0.9574 - val_loss: 0.4872 - val_acc: 0.8746\n",
      "Epoch 16/20\n",
      "25000/25000 [==============================] - 2s 94us/step - loss: 0.1143 - acc: 0.9607 - val_loss: 0.5135 - val_acc: 0.8772\n",
      "Epoch 17/20\n",
      "25000/25000 [==============================] - 2s 97us/step - loss: 0.1116 - acc: 0.9609 - val_loss: 0.5113 - val_acc: 0.8754\n",
      "Epoch 18/20\n",
      "25000/25000 [==============================] - 3s 102us/step - loss: 0.1117 - acc: 0.9605 - val_loss: 0.5133 - val_acc: 0.8740\n",
      "Epoch 19/20\n",
      "25000/25000 [==============================] - 2s 94us/step - loss: 0.1092 - acc: 0.9608 - val_loss: 0.5466 - val_acc: 0.8745\n",
      "Epoch 20/20\n",
      "25000/25000 [==============================] - 2s 94us/step - loss: 0.1063 - acc: 0.9625 - val_loss: 0.5712 - val_acc: 0.8734\n"
     ]
    }
   ],
   "source": [
    "dpt_model_hist = dpt_model.fit(x_train, y_train, epochs=20, batch_size=512, validation_data=(x_test, y_test))"
   ]
  },
  {
   "cell_type": "code",
   "execution_count": 71,
   "metadata": {},
   "outputs": [
    {
     "data": {
      "image/png": "[encoded data removed]",
      "text/plain": [
       "<Figure size 432x288 with 1 Axes>"
      ]
     },
     "metadata": {
      "needs_background": "light"
     },
     "output_type": "display_data"
    }
   ],
   "source": [
    "dpt_model_val_loss = dpt_model_hist.history['val_loss']\n",
    "plt.plot(epochs, dpt_model_val_loss, 'bo', label=\"Dpt val loss\")\n",
    "plt.plot(epochs, original_val_loss, 'b+', label=\"Original val loss\")\n",
    "plt.legend()\n",
    "plt.show()"
   ]
  },
  {
   "cell_type": "code",
   "execution_count": 92,
   "metadata": {},
   "outputs": [],
   "source": [
    "final_model = models.Sequential()\n",
    "final_model.add(layers.Dense(8, \n",
    "                             activation='relu', \n",
    "                             kernel_regularizer=regularizers.l2(0.001), \n",
    "                             input_shape=(10000,)))\n",
    "final_model.add(layers.Dropout(0.5))\n",
    "final_model.add(layers.Dense(8, activation='relu', kernel_regularizer=regularizers.l2(0.001)))\n",
    "final_model.add(layers.Dropout(0.5))\n",
    "final_model.add(layers.Dense(1, activation='sigmoid'))\n",
    "final_model.compile(optimizer=\"rmsprop\", loss=\"mse\", metrics=['acc'])"
   ]
  },
  {
   "cell_type": "code",
   "execution_count": 93,
   "metadata": {},
   "outputs": [
    {
     "name": "stdout",
     "output_type": "stream",
     "text": [
      "Train on 25000 samples, validate on 25000 samples\n",
      "Epoch 1/20\n",
      "25000/25000 [==============================] - 3s 117us/step - loss: 0.2347 - acc: 0.6893 - val_loss: 0.1983 - val_acc: 0.8004\n",
      "Epoch 2/20\n",
      "25000/25000 [==============================] - 2s 91us/step - loss: 0.1950 - acc: 0.7881 - val_loss: 0.1661 - val_acc: 0.8664\n",
      "Epoch 3/20\n",
      "25000/25000 [==============================] - 2s 91us/step - loss: 0.1722 - acc: 0.8316 - val_loss: 0.1467 - val_acc: 0.8780\n",
      "Epoch 4/20\n",
      "25000/25000 [==============================] - 2s 93us/step - loss: 0.1586 - acc: 0.8510 - val_loss: 0.1320 - val_acc: 0.8831\n",
      "Epoch 5/20\n",
      "25000/25000 [==============================] - 2s 92us/step - loss: 0.1471 - acc: 0.8663 - val_loss: 0.1251 - val_acc: 0.8791\n",
      "Epoch 6/20\n",
      "25000/25000 [==============================] - 2s 91us/step - loss: 0.1396 - acc: 0.8738 - val_loss: 0.1248 - val_acc: 0.8786\n",
      "Epoch 7/20\n",
      "25000/25000 [==============================] - 2s 94us/step - loss: 0.1334 - acc: 0.8786 - val_loss: 0.1158 - val_acc: 0.8854\n",
      "Epoch 8/20\n",
      "25000/25000 [==============================] - 2s 92us/step - loss: 0.1283 - acc: 0.8833 - val_loss: 0.1132 - val_acc: 0.8837\n",
      "Epoch 9/20\n",
      "25000/25000 [==============================] - 2s 92us/step - loss: 0.1239 - acc: 0.8875 - val_loss: 0.1154 - val_acc: 0.8829\n",
      "Epoch 10/20\n",
      "25000/25000 [==============================] - 2s 92us/step - loss: 0.1193 - acc: 0.8919 - val_loss: 0.1163 - val_acc: 0.8814\n",
      "Epoch 11/20\n",
      "25000/25000 [==============================] - 2s 92us/step - loss: 0.1164 - acc: 0.8930 - val_loss: 0.1143 - val_acc: 0.8781\n",
      "Epoch 12/20\n",
      "25000/25000 [==============================] - 2s 93us/step - loss: 0.1138 - acc: 0.8961 - val_loss: 0.1177 - val_acc: 0.8794\n",
      "Epoch 13/20\n",
      "25000/25000 [==============================] - 2s 93us/step - loss: 0.1113 - acc: 0.8998 - val_loss: 0.1131 - val_acc: 0.8809\n",
      "Epoch 14/20\n",
      "25000/25000 [==============================] - 2s 92us/step - loss: 0.1088 - acc: 0.9031 - val_loss: 0.1155 - val_acc: 0.8804\n",
      "Epoch 15/20\n",
      "25000/25000 [==============================] - 2s 92us/step - loss: 0.1066 - acc: 0.9056 - val_loss: 0.1155 - val_acc: 0.8809\n",
      "Epoch 16/20\n",
      "25000/25000 [==============================] - 2s 92us/step - loss: 0.1062 - acc: 0.9035 - val_loss: 0.1132 - val_acc: 0.8799\n",
      "Epoch 17/20\n",
      "25000/25000 [==============================] - 2s 93us/step - loss: 0.1052 - acc: 0.9048 - val_loss: 0.1153 - val_acc: 0.8793\n",
      "Epoch 18/20\n",
      "25000/25000 [==============================] - 2s 93us/step - loss: 0.1033 - acc: 0.9088 - val_loss: 0.1136 - val_acc: 0.8782\n",
      "Epoch 19/20\n",
      "25000/25000 [==============================] - 2s 92us/step - loss: 0.1030 - acc: 0.9044 - val_loss: 0.1145 - val_acc: 0.8785\n",
      "Epoch 20/20\n",
      "25000/25000 [==============================] - 2s 93us/step - loss: 0.1014 - acc: 0.9079 - val_loss: 0.1214 - val_acc: 0.8747\n"
     ]
    }
   ],
   "source": [
    "final_hist = final_model.fit(x_train, y_train, epochs=20, batch_size=512, validation_data=(x_test, y_test))"
   ]
  },
  {
   "cell_type": "code",
   "execution_count": 94,
   "metadata": {},
   "outputs": [
    {
     "data": {
      "image/png": "[encoded data removed]",
      "text/plain": [
       "<Figure size 432x288 with 1 Axes>"
      ]
     },
     "metadata": {
      "needs_background": "light"
     },
     "output_type": "display_data"
    }
   ],
   "source": [
    "final_hist_val_loss = final_hist.history['val_loss']\n",
    "plt.plot(epochs, final_hist_val_loss, 'bo', label=\"final val loss\")\n",
    "plt.plot(epochs, original_val_loss, 'b+', label=\"Original val loss\")\n",
    "plt.legend()\n",
    "plt.show()"
   ]
  },
  {
   "cell_type": "code",
   "execution_count": 95,
   "metadata": {},
   "outputs": [
    {
     "name": "stdout",
     "output_type": "stream",
     "text": [
      "Train on 25000 samples, validate on 25000 samples\n",
      "Epoch 1/20\n",
      "25000/25000 [==============================] - 3s 122us/step - loss: 0.2347 - acc: 0.6916 - val_loss: 0.1706 - val_acc: 0.8673\n",
      "Epoch 2/20\n",
      "25000/25000 [==============================] - 2s 91us/step - loss: 0.1732 - acc: 0.8174 - val_loss: 0.1286 - val_acc: 0.8807\n",
      "Epoch 3/20\n",
      "25000/25000 [==============================] - 2s 91us/step - loss: 0.1462 - acc: 0.8582 - val_loss: 0.1177 - val_acc: 0.8860\n",
      "Epoch 4/20\n",
      "25000/25000 [==============================] - 2s 91us/step - loss: 0.1310 - acc: 0.8782 - val_loss: 0.1122 - val_acc: 0.8865\n",
      "Epoch 5/20\n",
      "25000/25000 [==============================] - 2s 92us/step - loss: 0.1193 - acc: 0.8894 - val_loss: 0.1134 - val_acc: 0.8840\n",
      "Epoch 6/20\n",
      "25000/25000 [==============================] - 2s 91us/step - loss: 0.1133 - acc: 0.8967 - val_loss: 0.1119 - val_acc: 0.8855\n",
      "Epoch 7/20\n",
      "25000/25000 [==============================] - 2s 92us/step - loss: 0.1076 - acc: 0.9019 - val_loss: 0.1125 - val_acc: 0.8828\n",
      "Epoch 8/20\n",
      "25000/25000 [==============================] - 2s 92us/step - loss: 0.1037 - acc: 0.9069 - val_loss: 0.1131 - val_acc: 0.8833\n",
      "Epoch 9/20\n",
      "25000/25000 [==============================] - 2s 91us/step - loss: 0.1012 - acc: 0.9089 - val_loss: 0.1184 - val_acc: 0.8739\n",
      "Epoch 10/20\n",
      "25000/25000 [==============================] - 2s 91us/step - loss: 0.0992 - acc: 0.9108 - val_loss: 0.1159 - val_acc: 0.8794\n",
      "Epoch 11/20\n",
      "25000/25000 [==============================] - 2s 92us/step - loss: 0.0960 - acc: 0.9137 - val_loss: 0.1146 - val_acc: 0.8802\n",
      "Epoch 12/20\n",
      "25000/25000 [==============================] - 2s 91us/step - loss: 0.0969 - acc: 0.9117 - val_loss: 0.1191 - val_acc: 0.8760\n",
      "Epoch 13/20\n",
      "25000/25000 [==============================] - 2s 91us/step - loss: 0.0953 - acc: 0.9130 - val_loss: 0.1165 - val_acc: 0.8770\n",
      "Epoch 14/20\n",
      "25000/25000 [==============================] - 2s 93us/step - loss: 0.0954 - acc: 0.9154 - val_loss: 0.1146 - val_acc: 0.8817\n",
      "Epoch 15/20\n",
      "25000/25000 [==============================] - 2s 92us/step - loss: 0.0926 - acc: 0.9166 - val_loss: 0.1134 - val_acc: 0.8819\n",
      "Epoch 16/20\n",
      "25000/25000 [==============================] - 2s 92us/step - loss: 0.0933 - acc: 0.9147 - val_loss: 0.1134 - val_acc: 0.8816\n",
      "Epoch 17/20\n",
      "25000/25000 [==============================] - 2s 93us/step - loss: 0.0912 - acc: 0.9183 - val_loss: 0.1153 - val_acc: 0.8795\n",
      "Epoch 18/20\n",
      "25000/25000 [==============================] - 2s 92us/step - loss: 0.0902 - acc: 0.9192 - val_loss: 0.1146 - val_acc: 0.8809\n",
      "Epoch 19/20\n",
      "25000/25000 [==============================] - 2s 92us/step - loss: 0.0888 - acc: 0.9210 - val_loss: 0.1221 - val_acc: 0.8698\n",
      "Epoch 20/20\n",
      "25000/25000 [==============================] - 2s 92us/step - loss: 0.0894 - acc: 0.9190 - val_loss: 0.1151 - val_acc: 0.8799\n"
     ]
    }
   ],
   "source": [
    "final_model = models.Sequential()\n",
    "final_model.add(layers.Dense(16, \n",
    "                             activation='relu', \n",
    "                             kernel_regularizer=regularizers.l2(0.001), \n",
    "                             input_shape=(10000,)))\n",
    "final_model.add(layers.Dropout(0.5))\n",
    "final_model.add(layers.Dense(16, activation='relu', kernel_regularizer=regularizers.l2(0.001)))\n",
    "final_model.add(layers.Dropout(0.5))\n",
    "final_model.add(layers.Dense(1, activation='sigmoid'))\n",
    "final_model.compile(optimizer=\"rmsprop\", loss=\"mse\", metrics=['acc'])\n",
    "\n",
    "final_hist = final_model.fit(x_train, y_train, epochs=20, batch_size=512, validation_data=(x_test, y_test))"
   ]
  },
  {
   "cell_type": "code",
   "execution_count": 96,
   "metadata": {},
   "outputs": [
    {
     "data": {
      "image/png": "[encoded data removed]",
      "text/plain": [
       "<Figure size 432x288 with 1 Axes>"
      ]
     },
     "metadata": {
      "needs_background": "light"
     },
     "output_type": "display_data"
    }
   ],
   "source": [
    "final_hist_val_loss = final_hist.history['val_loss']\n",
    "plt.plot(epochs, final_hist_val_loss, 'bo', label=\"final val loss\")\n",
    "plt.plot(epochs, original_val_loss, 'b+', label=\"Original val loss\")\n",
    "plt.legend()\n",
    "plt.show()"
   ]
  },
  {
   "cell_type": "code",
   "execution_count": 97,
   "metadata": {},
   "outputs": [
    {
     "name": "stdout",
     "output_type": "stream",
     "text": [
      "Epoch 1/20\n",
      "25000/25000 [==============================] - 2s 74us/step - loss: 0.2247 - acc: 0.7087\n",
      "Epoch 2/20\n",
      "25000/25000 [==============================] - 1s 47us/step - loss: 0.1615 - acc: 0.8351\n",
      "Epoch 3/20\n",
      "25000/25000 [==============================] - 1s 48us/step - loss: 0.1363 - acc: 0.8696\n",
      "Epoch 4/20\n",
      "25000/25000 [==============================] - 1s 47us/step - loss: 0.1228 - acc: 0.8886\n",
      "Epoch 5/20\n",
      "25000/25000 [==============================] - 1s 47us/step - loss: 0.1155 - acc: 0.8955\n",
      "Epoch 6/20\n",
      "25000/25000 [==============================] - 1s 48us/step - loss: 0.1101 - acc: 0.9008\n",
      "Epoch 7/20\n",
      "25000/25000 [==============================] - 1s 48us/step - loss: 0.1040 - acc: 0.9085\n",
      "Epoch 8/20\n",
      "25000/25000 [==============================] - 1s 48us/step - loss: 0.1001 - acc: 0.9117\n",
      "Epoch 9/20\n",
      "25000/25000 [==============================] - 1s 48us/step - loss: 0.1004 - acc: 0.9098\n",
      "Epoch 10/20\n",
      "25000/25000 [==============================] - 1s 48us/step - loss: 0.0973 - acc: 0.9133\n",
      "Epoch 11/20\n",
      "25000/25000 [==============================] - 1s 47us/step - loss: 0.0962 - acc: 0.9182\n",
      "Epoch 12/20\n",
      "25000/25000 [==============================] - 1s 49us/step - loss: 0.0949 - acc: 0.9207\n",
      "Epoch 13/20\n",
      "25000/25000 [==============================] - 1s 49us/step - loss: 0.0940 - acc: 0.9214\n",
      "Epoch 14/20\n",
      "25000/25000 [==============================] - 1s 52us/step - loss: 0.0928 - acc: 0.9218\n",
      "Epoch 15/20\n",
      "25000/25000 [==============================] - 1s 52us/step - loss: 0.0921 - acc: 0.9222\n",
      "Epoch 16/20\n",
      "25000/25000 [==============================] - 1s 49us/step - loss: 0.0927 - acc: 0.9210\n",
      "Epoch 17/20\n",
      "25000/25000 [==============================] - 1s 49us/step - loss: 0.0904 - acc: 0.9253\n",
      "Epoch 18/20\n",
      "25000/25000 [==============================] - 1s 48us/step - loss: 0.0912 - acc: 0.9226\n",
      "Epoch 19/20\n",
      "25000/25000 [==============================] - 1s 50us/step - loss: 0.0907 - acc: 0.9226\n",
      "Epoch 20/20\n",
      "25000/25000 [==============================] - 1s 48us/step - loss: 0.0890 - acc: 0.9265\n"
     ]
    },
    {
     "data": {
      "text/plain": [
       "<keras.callbacks.History at 0x7fd9fc6a2898>"
      ]
     },
     "execution_count": 97,
     "metadata": {},
     "output_type": "execute_result"
    }
   ],
   "source": [
    "t_model = models.Sequential()\n",
    "t_model.add(layers.Dense(16, \n",
    "                             activation='relu', \n",
    "                             kernel_regularizer=regularizers.l2(0.001), \n",
    "                             input_shape=(10000,)))\n",
    "t_model.add(layers.Dropout(0.5))\n",
    "t_model.add(layers.Dense(16, activation='relu', kernel_regularizer=regularizers.l2(0.001)))\n",
    "t_model.add(layers.Dropout(0.5))\n",
    "t_model.add(layers.Dense(1, activation='sigmoid'))\n",
    "t_model.compile(optimizer=\"rmsprop\", loss=\"mse\", metrics=['acc'])\n",
    "\n",
    "t_model.fit(x_train, y_train, epochs=20, batch_size=512)"
   ]
  },
  {
   "cell_type": "code",
   "execution_count": 98,
   "metadata": {},
   "outputs": [
    {
     "name": "stdout",
     "output_type": "stream",
     "text": [
      "25000/25000 [==============================] - 1s 53us/step\n"
     ]
    }
   ],
   "source": [
    "result = t_model.evaluate(x_test, y_test)"
   ]
  },
  {
   "cell_type": "code",
   "execution_count": 99,
   "metadata": {},
   "outputs": [
    {
     "data": {
      "text/plain": [
       "[0.11460810596942901, 0.87928]"
      ]
     },
     "execution_count": 99,
     "metadata": {},
     "output_type": "execute_result"
    }
   ],
   "source": [
    "result"
   ]
  },
  {
   "cell_type": "code",
   "execution_count": 100,
   "metadata": {},
   "outputs": [
    {
     "data": {
      "text/plain": [
       "array([[0.06430233],\n",
       "       [0.99945295],\n",
       "       [0.9253927 ],\n",
       "       ...,\n",
       "       [0.07677269],\n",
       "       [0.03488806],\n",
       "       [0.71662575]], dtype=float32)"
      ]
     },
     "execution_count": 100,
     "metadata": {},
     "output_type": "execute_result"
    }
   ],
   "source": [
    "t_model.predict(x_test)"
   ]
  },
  {
   "cell_type": "code",
   "execution_count": null,
   "metadata": {},
   "outputs": [],
   "source": []
  }
 ],
 "metadata": {
  "kernelspec": {
   "display_name": "Python 3",
   "language": "python",
   "name": "python3"
  },
  "language_info": {
   "codemirror_mode": {
    "name": "ipython",
    "version": 3
   },
   "file_extension": ".py",
   "mimetype": "text/x-python",
   "name": "python",
   "nbconvert_exporter": "python",
   "pygments_lexer": "ipython3",
   "version": "3.7.3"
  }
 },
 "nbformat": 4,
 "nbformat_minor": 2
}
